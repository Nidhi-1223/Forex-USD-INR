{
 "cells": [
  {
   "cell_type": "code",
   "execution_count": 1,
   "metadata": {},
   "outputs": [],
   "source": [
    "import numpy as np\n",
    "from tensorflow.keras.models import Sequential\n",
    "from tensorflow.keras.layers import LSTM\n",
    "from tensorflow.keras.layers import Dense, Dropout\n",
    "import pandas as pd\n",
    "from matplotlib import pyplot as plt\n",
    "from sklearn.preprocessing import StandardScaler, MinMaxScaler\n",
    "import seaborn as sns"
   ]
  },
  {
   "cell_type": "code",
   "execution_count": 2,
   "metadata": {},
   "outputs": [
    {
     "data": {
      "text/html": [
       "<div>\n",
       "<style scoped>\n",
       "    .dataframe tbody tr th:only-of-type {\n",
       "        vertical-align: middle;\n",
       "    }\n",
       "\n",
       "    .dataframe tbody tr th {\n",
       "        vertical-align: top;\n",
       "    }\n",
       "\n",
       "    .dataframe thead th {\n",
       "        text-align: right;\n",
       "    }\n",
       "</style>\n",
       "<table border=\"1\" class=\"dataframe\">\n",
       "  <thead>\n",
       "    <tr style=\"text-align: right;\">\n",
       "      <th></th>\n",
       "      <th>Price</th>\n",
       "      <th>Open</th>\n",
       "      <th>High</th>\n",
       "      <th>Low</th>\n",
       "      <th>Volume</th>\n",
       "      <th>Chg%</th>\n",
       "    </tr>\n",
       "    <tr>\n",
       "      <th>Date</th>\n",
       "      <th></th>\n",
       "      <th></th>\n",
       "      <th></th>\n",
       "      <th></th>\n",
       "      <th></th>\n",
       "      <th></th>\n",
       "    </tr>\n",
       "  </thead>\n",
       "  <tbody>\n",
       "    <tr>\n",
       "      <th>30-05-2023</th>\n",
       "      <td>82.665</td>\n",
       "      <td>82.557</td>\n",
       "      <td>82.794</td>\n",
       "      <td>82.548</td>\n",
       "      <td>0</td>\n",
       "      <td>0.0010</td>\n",
       "    </tr>\n",
       "    <tr>\n",
       "      <th>29-05-2023</th>\n",
       "      <td>82.586</td>\n",
       "      <td>82.591</td>\n",
       "      <td>82.682</td>\n",
       "      <td>82.511</td>\n",
       "      <td>0</td>\n",
       "      <td>0.0002</td>\n",
       "    </tr>\n",
       "    <tr>\n",
       "      <th>26-05-2023</th>\n",
       "      <td>82.570</td>\n",
       "      <td>82.745</td>\n",
       "      <td>82.748</td>\n",
       "      <td>82.542</td>\n",
       "      <td>0</td>\n",
       "      <td>-0.0020</td>\n",
       "    </tr>\n",
       "    <tr>\n",
       "      <th>25-05-2023</th>\n",
       "      <td>82.733</td>\n",
       "      <td>82.680</td>\n",
       "      <td>82.821</td>\n",
       "      <td>82.666</td>\n",
       "      <td>0</td>\n",
       "      <td>0.0008</td>\n",
       "    </tr>\n",
       "    <tr>\n",
       "      <th>24-05-2023</th>\n",
       "      <td>82.670</td>\n",
       "      <td>82.880</td>\n",
       "      <td>82.897</td>\n",
       "      <td>82.570</td>\n",
       "      <td>0</td>\n",
       "      <td>-0.0019</td>\n",
       "    </tr>\n",
       "  </tbody>\n",
       "</table>\n",
       "</div>"
      ],
      "text/plain": [
       "             Price    Open    High     Low  Volume    Chg%\n",
       "Date                                                      \n",
       "30-05-2023  82.665  82.557  82.794  82.548       0  0.0010\n",
       "29-05-2023  82.586  82.591  82.682  82.511       0  0.0002\n",
       "26-05-2023  82.570  82.745  82.748  82.542       0 -0.0020\n",
       "25-05-2023  82.733  82.680  82.821  82.666       0  0.0008\n",
       "24-05-2023  82.670  82.880  82.897  82.570       0 -0.0019"
      ]
     },
     "execution_count": 2,
     "metadata": {},
     "output_type": "execute_result"
    }
   ],
   "source": [
    "data_csv = pd.read_csv('data\\usd_inr.csv')\n",
    "data_csv.set_index(['Date'], inplace=True)\n",
    "data_csv.head()"
   ]
  },
  {
   "cell_type": "code",
   "execution_count": 3,
   "metadata": {},
   "outputs": [
    {
     "data": {
      "text/html": [
       "<div>\n",
       "<style scoped>\n",
       "    .dataframe tbody tr th:only-of-type {\n",
       "        vertical-align: middle;\n",
       "    }\n",
       "\n",
       "    .dataframe tbody tr th {\n",
       "        vertical-align: top;\n",
       "    }\n",
       "\n",
       "    .dataframe thead th {\n",
       "        text-align: right;\n",
       "    }\n",
       "</style>\n",
       "<table border=\"1\" class=\"dataframe\">\n",
       "  <thead>\n",
       "    <tr style=\"text-align: right;\">\n",
       "      <th></th>\n",
       "      <th>Price</th>\n",
       "      <th>Open</th>\n",
       "      <th>High</th>\n",
       "      <th>Low</th>\n",
       "      <th>Volume</th>\n",
       "      <th>Chg%</th>\n",
       "    </tr>\n",
       "    <tr>\n",
       "      <th>Date</th>\n",
       "      <th></th>\n",
       "      <th></th>\n",
       "      <th></th>\n",
       "      <th></th>\n",
       "      <th></th>\n",
       "      <th></th>\n",
       "    </tr>\n",
       "  </thead>\n",
       "  <tbody>\n",
       "    <tr>\n",
       "      <th>01-01-2010</th>\n",
       "      <td>46.615</td>\n",
       "      <td>46.610</td>\n",
       "      <td>46.677</td>\n",
       "      <td>46.590</td>\n",
       "      <td>0</td>\n",
       "      <td>0.0044</td>\n",
       "    </tr>\n",
       "    <tr>\n",
       "      <th>04-01-2010</th>\n",
       "      <td>46.295</td>\n",
       "      <td>46.545</td>\n",
       "      <td>46.655</td>\n",
       "      <td>46.245</td>\n",
       "      <td>0</td>\n",
       "      <td>-0.0069</td>\n",
       "    </tr>\n",
       "    <tr>\n",
       "      <th>05-01-2010</th>\n",
       "      <td>46.205</td>\n",
       "      <td>46.305</td>\n",
       "      <td>46.305</td>\n",
       "      <td>46.045</td>\n",
       "      <td>0</td>\n",
       "      <td>-0.0019</td>\n",
       "    </tr>\n",
       "    <tr>\n",
       "      <th>06-01-2010</th>\n",
       "      <td>45.695</td>\n",
       "      <td>46.165</td>\n",
       "      <td>46.205</td>\n",
       "      <td>45.695</td>\n",
       "      <td>0</td>\n",
       "      <td>-0.0110</td>\n",
       "    </tr>\n",
       "    <tr>\n",
       "      <th>07-01-2010</th>\n",
       "      <td>45.650</td>\n",
       "      <td>45.610</td>\n",
       "      <td>45.890</td>\n",
       "      <td>45.570</td>\n",
       "      <td>0</td>\n",
       "      <td>-0.0010</td>\n",
       "    </tr>\n",
       "  </tbody>\n",
       "</table>\n",
       "</div>"
      ],
      "text/plain": [
       "             Price    Open    High     Low  Volume    Chg%\n",
       "Date                                                      \n",
       "01-01-2010  46.615  46.610  46.677  46.590       0  0.0044\n",
       "04-01-2010  46.295  46.545  46.655  46.245       0 -0.0069\n",
       "05-01-2010  46.205  46.305  46.305  46.045       0 -0.0019\n",
       "06-01-2010  45.695  46.165  46.205  45.695       0 -0.0110\n",
       "07-01-2010  45.650  45.610  45.890  45.570       0 -0.0010"
      ]
     },
     "execution_count": 3,
     "metadata": {},
     "output_type": "execute_result"
    }
   ],
   "source": [
    "data_csv = data_csv.iloc[::-1]\n",
    "data_csv.head()"
   ]
  },
  {
   "cell_type": "code",
   "execution_count": 4,
   "metadata": {},
   "outputs": [],
   "source": [
    "data_csv.drop(columns=['Volume'],axis=1,inplace=True)"
   ]
  },
  {
   "cell_type": "code",
   "execution_count": 5,
   "metadata": {},
   "outputs": [
    {
     "data": {
      "text/html": [
       "<div>\n",
       "<style scoped>\n",
       "    .dataframe tbody tr th:only-of-type {\n",
       "        vertical-align: middle;\n",
       "    }\n",
       "\n",
       "    .dataframe tbody tr th {\n",
       "        vertical-align: top;\n",
       "    }\n",
       "\n",
       "    .dataframe thead th {\n",
       "        text-align: right;\n",
       "    }\n",
       "</style>\n",
       "<table border=\"1\" class=\"dataframe\">\n",
       "  <thead>\n",
       "    <tr style=\"text-align: right;\">\n",
       "      <th></th>\n",
       "      <th>Price</th>\n",
       "      <th>Open</th>\n",
       "      <th>High</th>\n",
       "      <th>Low</th>\n",
       "      <th>Chg%</th>\n",
       "    </tr>\n",
       "    <tr>\n",
       "      <th>Date</th>\n",
       "      <th></th>\n",
       "      <th></th>\n",
       "      <th></th>\n",
       "      <th></th>\n",
       "      <th></th>\n",
       "    </tr>\n",
       "  </thead>\n",
       "  <tbody>\n",
       "    <tr>\n",
       "      <th>01-01-2010</th>\n",
       "      <td>46.615</td>\n",
       "      <td>46.610</td>\n",
       "      <td>46.677</td>\n",
       "      <td>46.590</td>\n",
       "      <td>0.0044</td>\n",
       "    </tr>\n",
       "    <tr>\n",
       "      <th>04-01-2010</th>\n",
       "      <td>46.295</td>\n",
       "      <td>46.545</td>\n",
       "      <td>46.655</td>\n",
       "      <td>46.245</td>\n",
       "      <td>-0.0069</td>\n",
       "    </tr>\n",
       "    <tr>\n",
       "      <th>05-01-2010</th>\n",
       "      <td>46.205</td>\n",
       "      <td>46.305</td>\n",
       "      <td>46.305</td>\n",
       "      <td>46.045</td>\n",
       "      <td>-0.0019</td>\n",
       "    </tr>\n",
       "    <tr>\n",
       "      <th>06-01-2010</th>\n",
       "      <td>45.695</td>\n",
       "      <td>46.165</td>\n",
       "      <td>46.205</td>\n",
       "      <td>45.695</td>\n",
       "      <td>-0.0110</td>\n",
       "    </tr>\n",
       "    <tr>\n",
       "      <th>07-01-2010</th>\n",
       "      <td>45.650</td>\n",
       "      <td>45.610</td>\n",
       "      <td>45.890</td>\n",
       "      <td>45.570</td>\n",
       "      <td>-0.0010</td>\n",
       "    </tr>\n",
       "  </tbody>\n",
       "</table>\n",
       "</div>"
      ],
      "text/plain": [
       "             Price    Open    High     Low    Chg%\n",
       "Date                                              \n",
       "01-01-2010  46.615  46.610  46.677  46.590  0.0044\n",
       "04-01-2010  46.295  46.545  46.655  46.245 -0.0069\n",
       "05-01-2010  46.205  46.305  46.305  46.045 -0.0019\n",
       "06-01-2010  45.695  46.165  46.205  45.695 -0.0110\n",
       "07-01-2010  45.650  45.610  45.890  45.570 -0.0010"
      ]
     },
     "execution_count": 5,
     "metadata": {},
     "output_type": "execute_result"
    }
   ],
   "source": [
    "data_csv.head()"
   ]
  },
  {
   "cell_type": "code",
   "execution_count": 7,
   "metadata": {},
   "outputs": [
    {
     "name": "stdout",
     "output_type": "stream",
     "text": [
      "['Price', 'Open', 'High', 'Low', 'Chg%']\n"
     ]
    }
   ],
   "source": [
    "cols = list(data_csv)[0:5]\n",
    "print(cols)"
   ]
  },
  {
   "cell_type": "code",
   "execution_count": 8,
   "metadata": {},
   "outputs": [
    {
     "data": {
      "image/png": "[encoded data removed]",
      "text/plain": [
       "<Figure size 3000x1000 with 1 Axes>"
      ]
     },
     "metadata": {},
     "output_type": "display_data"
    }
   ],
   "source": [
    "plt.figure(figsize=(30,10))\n",
    "plt.plot(data_csv['Price'])\n",
    "plt.xlabel('Date')\n",
    "plt.ylabel('Close price INR')\n",
    "plt.show()"
   ]
  },
  {
   "cell_type": "code",
   "execution_count": 11,
   "metadata": {},
   "outputs": [
    {
     "data": {
      "text/plain": [
       "0       46.615\n",
       "1       46.295\n",
       "2       46.205\n",
       "3       45.695\n",
       "4       45.650\n",
       "         ...  \n",
       "3493    82.670\n",
       "3494    82.733\n",
       "3495    82.570\n",
       "3496    82.586\n",
       "3497    82.665\n",
       "Name: Price, Length: 3498, dtype: float64"
      ]
     },
     "execution_count": 11,
     "metadata": {},
     "output_type": "execute_result"
    }
   ],
   "source": [
    "df1=data_csv.reset_index()['Price']\n",
    "df1"
   ]
  },
  {
   "cell_type": "code",
   "execution_count": 13,
   "metadata": {},
   "outputs": [
    {
     "data": {
      "text/plain": [
       "(3498,)"
      ]
     },
     "execution_count": 13,
     "metadata": {},
     "output_type": "execute_result"
    }
   ],
   "source": [
    "df1.shape"
   ]
  },
  {
   "cell_type": "code",
   "execution_count": 16,
   "metadata": {},
   "outputs": [],
   "source": [
    "from sklearn.preprocessing import MinMaxScaler\n",
    "scaler = MinMaxScaler(feature_range=(0,1))\n",
    "df1 = scaler.fit_transform(np.array(df1).reshape(-1,1))"
   ]
  },
  {
   "cell_type": "code",
   "execution_count": 17,
   "metadata": {},
   "outputs": [
    {
     "data": {
      "text/plain": [
       "(3498, 1)"
      ]
     },
     "execution_count": 17,
     "metadata": {},
     "output_type": "execute_result"
    }
   ],
   "source": [
    "df1.shape"
   ]
  },
  {
   "cell_type": "code",
   "execution_count": 18,
   "metadata": {},
   "outputs": [
    {
     "data": {
      "text/plain": [
       "array([[0.06881907],\n",
       "       [0.06063242],\n",
       "       [0.05832992],\n",
       "       ...,\n",
       "       [0.9886666 ],\n",
       "       [0.98907593],\n",
       "       [0.99109701]])"
      ]
     },
     "execution_count": 18,
     "metadata": {},
     "output_type": "execute_result"
    }
   ],
   "source": [
    "df1"
   ]
  },
  {
   "cell_type": "code",
   "execution_count": 23,
   "metadata": {},
   "outputs": [],
   "source": [
    "# from sklearn.model_selection import train_test_split\n",
    "# X_train, X_test, y_train, y_test = train_test_split(X, y, test_size=0.2, shuffle=False)\n",
    "\n",
    "# # Reshape the input data for LSTM (samples, time steps, features)\n",
    "# X_train = np.reshape(X_train, (X_train.shape[0], X_train.shape[1], 1))\n",
    "# X_test = np.reshape(X_test, (X_test.shape[0], X_test.shape[1], 1))\n",
    "training_size = int(len(df1)*0.7)\n",
    "test_size = len(df1) - training_size\n",
    "train_data, test_data = df1[0:training_size,:], df1[training_size:len(df1),:1]"
   ]
  },
  {
   "cell_type": "code",
   "execution_count": 26,
   "metadata": {},
   "outputs": [
    {
     "data": {
      "text/plain": [
       "(2448, 1050)"
      ]
     },
     "execution_count": 26,
     "metadata": {},
     "output_type": "execute_result"
    }
   ],
   "source": [
    "training_size, test_size"
   ]
  },
  {
   "cell_type": "code",
   "execution_count": 25,
   "metadata": {},
   "outputs": [
    {
     "data": {
      "text/plain": [
       "((2448, 1), (1050, 1))"
      ]
     },
     "execution_count": 25,
     "metadata": {},
     "output_type": "execute_result"
    }
   ],
   "source": [
    "train_data.shape, test_data.shape"
   ]
  },
  {
   "cell_type": "code",
   "execution_count": 27,
   "metadata": {},
   "outputs": [],
   "source": [
    "# converrt an array of values into a dataset matrix\n",
    "def create_dataset(dataset, time_step=1):\n",
    "    dataX, dataY = [],[]\n",
    "    for i in range(len(dataset) - time_step - 1):\n",
    "        a = dataset[i:(i+time_step), 0]\n",
    "        dataX.append(a)\n",
    "        dataY.append(dataset[i+time_step, 0])\n",
    "    return np.array(dataX), np.array(dataY)"
   ]
  },
  {
   "cell_type": "code",
   "execution_count": 28,
   "metadata": {},
   "outputs": [],
   "source": [
    "time_step = 100\n",
    "X_train, y_train  = create_dataset(train_data, time_step)\n",
    "X_test, y_test = create_dataset(test_data, time_step)"
   ]
  },
  {
   "cell_type": "code",
   "execution_count": 29,
   "metadata": {},
   "outputs": [
    {
     "data": {
      "text/plain": [
       "array([[0.06881907, 0.06063242, 0.05832992, ..., 0.04272411, 0.06242325,\n",
       "        0.07393573],\n",
       "       [0.06063242, 0.05832992, 0.04528244, ..., 0.06242325, 0.07393573,\n",
       "        0.0767499 ],\n",
       "       [0.05832992, 0.04528244, 0.04413119, ..., 0.07393573, 0.0767499 ,\n",
       "        0.07802906],\n",
       "       ...,\n",
       "       [0.6763201 , 0.66537045, 0.65608371, ..., 0.68166701, 0.67557818,\n",
       "        0.67345477],\n",
       "       [0.66537045, 0.65608371, 0.65309046, ..., 0.67557818, 0.67345477,\n",
       "        0.67041036],\n",
       "       [0.65608371, 0.65309046, 0.66708453, ..., 0.67345477, 0.67041036,\n",
       "        0.67424785]])"
      ]
     },
     "execution_count": 29,
     "metadata": {},
     "output_type": "execute_result"
    }
   ],
   "source": [
    "X_train"
   ]
  },
  {
   "cell_type": "code",
   "execution_count": 30,
   "metadata": {},
   "outputs": [
    {
     "data": {
      "text/plain": [
       "((2347, 100), (949, 100), (2347,), (949,))"
      ]
     },
     "execution_count": 30,
     "metadata": {},
     "output_type": "execute_result"
    }
   ],
   "source": [
    "X_train.shape, X_test.shape, y_train.shape, y_test.shape"
   ]
  },
  {
   "cell_type": "code",
   "execution_count": 31,
   "metadata": {},
   "outputs": [],
   "source": [
    "# reshape input to be [samples, time-steps, features]\n",
    "X_train = X_train.reshape(X_train.shape[0], X_train.shape[1],1)\n",
    "X_test = X_test.reshape(X_test.shape[0], X_test.shape[1],1)"
   ]
  },
  {
   "cell_type": "code",
   "execution_count": 32,
   "metadata": {},
   "outputs": [
    {
     "data": {
      "text/plain": [
       "((2347, 100, 1), (949, 100, 1), (2347,), (949,))"
      ]
     },
     "execution_count": 32,
     "metadata": {},
     "output_type": "execute_result"
    }
   ],
   "source": [
    "X_train.shape, X_test.shape, y_train.shape, y_test.shape"
   ]
  },
  {
   "cell_type": "code",
   "execution_count": 33,
   "metadata": {},
   "outputs": [],
   "source": [
    "# creating model \n",
    "model = Sequential()\n",
    "model.add(LSTM(50, return_sequences = True, input_shape = (100,1)))\n",
    "model.add(LSTM(50, return_sequences = True))\n",
    "model.add(LSTM(50))\n",
    "model.add(Dense(1))\n",
    "model.compile(loss='mean_squared_error', optimizer='adam')"
   ]
  },
  {
   "cell_type": "code",
   "execution_count": 34,
   "metadata": {},
   "outputs": [
    {
     "name": "stdout",
     "output_type": "stream",
     "text": [
      "Model: \"sequential\"\n",
      "_________________________________________________________________\n",
      " Layer (type)                Output Shape              Param #   \n",
      "=================================================================\n",
      " lstm (LSTM)                 (None, 100, 50)           10400     \n",
      "                                                                 \n",
      " lstm_1 (LSTM)               (None, 100, 50)           20200     \n",
      "                                                                 \n",
      " lstm_2 (LSTM)               (None, 50)                20200     \n",
      "                                                                 \n",
      " dense (Dense)               (None, 1)                 51        \n",
      "                                                                 \n",
      "=================================================================\n",
      "Total params: 50,851\n",
      "Trainable params: 50,851\n",
      "Non-trainable params: 0\n",
      "_________________________________________________________________\n"
     ]
    }
   ],
   "source": [
    "model.summary()"
   ]
  },
  {
   "cell_type": "code",
   "execution_count": 91,
   "metadata": {},
   "outputs": [
    {
     "name": "stdout",
     "output_type": "stream",
     "text": [
      "Epoch 1/75\n",
      "37/37 [==============================] - 11s 203ms/step - loss: 1.7850e-04 - val_loss: 1.6419e-04\n",
      "Epoch 2/75\n",
      "37/37 [==============================] - 6s 167ms/step - loss: 1.7535e-04 - val_loss: 1.0750e-04\n",
      "Epoch 3/75\n",
      "37/37 [==============================] - 6s 170ms/step - loss: 1.5862e-04 - val_loss: 2.4619e-04\n",
      "Epoch 4/75\n",
      "37/37 [==============================] - 6s 167ms/step - loss: 1.5316e-04 - val_loss: 9.9498e-05\n",
      "Epoch 5/75\n",
      "37/37 [==============================] - 6s 169ms/step - loss: 1.4739e-04 - val_loss: 1.0965e-04\n",
      "Epoch 6/75\n",
      "37/37 [==============================] - 6s 169ms/step - loss: 1.7494e-04 - val_loss: 1.4564e-04\n",
      "Epoch 7/75\n",
      "37/37 [==============================] - 6s 169ms/step - loss: 1.5696e-04 - val_loss: 9.4723e-05\n",
      "Epoch 8/75\n",
      "37/37 [==============================] - 6s 169ms/step - loss: 1.5221e-04 - val_loss: 9.8905e-05\n",
      "Epoch 9/75\n",
      "37/37 [==============================] - 6s 170ms/step - loss: 1.4652e-04 - val_loss: 2.9141e-04\n",
      "Epoch 10/75\n",
      "37/37 [==============================] - 6s 173ms/step - loss: 1.4320e-04 - val_loss: 2.7250e-04\n",
      "Epoch 11/75\n",
      "37/37 [==============================] - 6s 171ms/step - loss: 1.3534e-04 - val_loss: 1.6277e-04\n",
      "Epoch 12/75\n",
      "37/37 [==============================] - 6s 173ms/step - loss: 1.3006e-04 - val_loss: 8.8643e-05\n",
      "Epoch 13/75\n",
      "37/37 [==============================] - 7s 178ms/step - loss: 1.3650e-04 - val_loss: 1.2632e-04\n",
      "Epoch 14/75\n",
      "37/37 [==============================] - 7s 183ms/step - loss: 1.5311e-04 - val_loss: 1.0786e-04\n",
      "Epoch 15/75\n",
      "37/37 [==============================] - 7s 184ms/step - loss: 1.4679e-04 - val_loss: 2.6726e-04\n",
      "Epoch 16/75\n",
      "37/37 [==============================] - 7s 188ms/step - loss: 1.2234e-04 - val_loss: 1.0763e-04\n",
      "Epoch 17/75\n",
      "37/37 [==============================] - 7s 192ms/step - loss: 1.3499e-04 - val_loss: 1.2149e-04\n",
      "Epoch 18/75\n",
      "37/37 [==============================] - 7s 191ms/step - loss: 1.2807e-04 - val_loss: 1.4423e-04\n",
      "Epoch 19/75\n",
      "37/37 [==============================] - 7s 189ms/step - loss: 1.5918e-04 - val_loss: 1.1925e-04\n",
      "Epoch 20/75\n",
      "37/37 [==============================] - 7s 186ms/step - loss: 1.2188e-04 - val_loss: 9.2762e-05\n",
      "Epoch 21/75\n",
      "37/37 [==============================] - 7s 191ms/step - loss: 1.2523e-04 - val_loss: 1.3800e-04\n",
      "Epoch 22/75\n",
      "37/37 [==============================] - 7s 188ms/step - loss: 1.2056e-04 - val_loss: 1.5531e-04\n",
      "Epoch 23/75\n",
      "37/37 [==============================] - 7s 186ms/step - loss: 1.2905e-04 - val_loss: 8.6186e-05\n",
      "Epoch 24/75\n",
      "37/37 [==============================] - 7s 188ms/step - loss: 1.0953e-04 - val_loss: 1.0119e-04\n",
      "Epoch 25/75\n",
      "37/37 [==============================] - 7s 186ms/step - loss: 1.3077e-04 - val_loss: 1.0585e-04\n",
      "Epoch 26/75\n",
      "37/37 [==============================] - 7s 186ms/step - loss: 1.1177e-04 - val_loss: 8.1442e-05\n",
      "Epoch 27/75\n",
      "37/37 [==============================] - 7s 187ms/step - loss: 1.5243e-04 - val_loss: 7.5394e-05\n",
      "Epoch 28/75\n",
      "37/37 [==============================] - 7s 197ms/step - loss: 1.0737e-04 - val_loss: 7.3132e-05\n",
      "Epoch 29/75\n",
      "37/37 [==============================] - 7s 193ms/step - loss: 1.0768e-04 - val_loss: 7.3473e-05\n",
      "Epoch 30/75\n",
      "37/37 [==============================] - 7s 182ms/step - loss: 1.1031e-04 - val_loss: 1.0999e-04\n",
      "Epoch 31/75\n",
      "37/37 [==============================] - 6s 175ms/step - loss: 1.3038e-04 - val_loss: 1.8389e-04\n",
      "Epoch 32/75\n",
      "37/37 [==============================] - 6s 175ms/step - loss: 1.3461e-04 - val_loss: 7.2648e-05\n",
      "Epoch 33/75\n",
      "37/37 [==============================] - 7s 177ms/step - loss: 1.0580e-04 - val_loss: 2.8861e-04\n",
      "Epoch 34/75\n",
      "37/37 [==============================] - 7s 180ms/step - loss: 1.0864e-04 - val_loss: 1.0936e-04\n",
      "Epoch 35/75\n",
      "37/37 [==============================] - 7s 180ms/step - loss: 1.2265e-04 - val_loss: 1.7996e-04\n",
      "Epoch 36/75\n",
      "37/37 [==============================] - 7s 179ms/step - loss: 1.0772e-04 - val_loss: 1.0137e-04\n",
      "Epoch 37/75\n",
      "37/37 [==============================] - 7s 183ms/step - loss: 1.0710e-04 - val_loss: 6.5232e-05\n",
      "Epoch 38/75\n",
      "37/37 [==============================] - 7s 180ms/step - loss: 1.0070e-04 - val_loss: 6.3687e-05\n",
      "Epoch 39/75\n",
      "37/37 [==============================] - 7s 181ms/step - loss: 1.0023e-04 - val_loss: 8.9065e-05\n",
      "Epoch 40/75\n",
      "37/37 [==============================] - 7s 182ms/step - loss: 9.9722e-05 - val_loss: 6.2128e-05\n",
      "Epoch 41/75\n",
      "37/37 [==============================] - 7s 181ms/step - loss: 1.0773e-04 - val_loss: 8.8153e-05\n",
      "Epoch 42/75\n",
      "37/37 [==============================] - 7s 180ms/step - loss: 1.0315e-04 - val_loss: 6.0871e-05\n",
      "Epoch 43/75\n",
      "37/37 [==============================] - 7s 183ms/step - loss: 1.0712e-04 - val_loss: 1.8546e-04\n",
      "Epoch 44/75\n",
      "37/37 [==============================] - 7s 181ms/step - loss: 1.0072e-04 - val_loss: 1.9448e-04\n",
      "Epoch 45/75\n",
      "37/37 [==============================] - 7s 180ms/step - loss: 9.8499e-05 - val_loss: 8.3832e-05\n",
      "Epoch 46/75\n",
      "37/37 [==============================] - 7s 184ms/step - loss: 9.2963e-05 - val_loss: 1.9482e-04\n",
      "Epoch 47/75\n",
      "37/37 [==============================] - 7s 180ms/step - loss: 1.0456e-04 - val_loss: 1.1800e-04\n",
      "Epoch 48/75\n",
      "37/37 [==============================] - 7s 181ms/step - loss: 8.7287e-05 - val_loss: 5.9164e-05\n",
      "Epoch 49/75\n",
      "37/37 [==============================] - 7s 183ms/step - loss: 9.1809e-05 - val_loss: 8.7076e-05\n",
      "Epoch 50/75\n",
      "37/37 [==============================] - 7s 184ms/step - loss: 9.0719e-05 - val_loss: 9.1450e-05\n",
      "Epoch 51/75\n",
      "37/37 [==============================] - 7s 183ms/step - loss: 8.9015e-05 - val_loss: 5.4716e-05\n",
      "Epoch 52/75\n",
      "37/37 [==============================] - 7s 181ms/step - loss: 9.5146e-05 - val_loss: 5.7725e-05\n",
      "Epoch 53/75\n",
      "37/37 [==============================] - 7s 182ms/step - loss: 9.1265e-05 - val_loss: 5.4068e-05\n",
      "Epoch 54/75\n",
      "37/37 [==============================] - 7s 182ms/step - loss: 9.6281e-05 - val_loss: 4.3370e-04\n",
      "Epoch 55/75\n",
      "37/37 [==============================] - 7s 183ms/step - loss: 1.0446e-04 - val_loss: 5.2595e-05\n",
      "Epoch 56/75\n",
      "37/37 [==============================] - 7s 180ms/step - loss: 9.3896e-05 - val_loss: 1.7886e-04\n",
      "Epoch 57/75\n",
      "37/37 [==============================] - 7s 182ms/step - loss: 8.9903e-05 - val_loss: 1.7833e-04\n",
      "Epoch 58/75\n",
      "37/37 [==============================] - 7s 180ms/step - loss: 1.2575e-04 - val_loss: 7.5452e-05\n",
      "Epoch 59/75\n",
      "37/37 [==============================] - 7s 181ms/step - loss: 1.0437e-04 - val_loss: 5.1562e-05\n",
      "Epoch 60/75\n",
      "37/37 [==============================] - 7s 181ms/step - loss: 8.2759e-05 - val_loss: 5.1887e-05\n",
      "Epoch 61/75\n",
      "37/37 [==============================] - 7s 180ms/step - loss: 8.2551e-05 - val_loss: 6.7664e-05\n",
      "Epoch 62/75\n",
      "37/37 [==============================] - 7s 182ms/step - loss: 8.1171e-05 - val_loss: 1.2890e-04\n",
      "Epoch 63/75\n",
      "37/37 [==============================] - 7s 181ms/step - loss: 8.5895e-05 - val_loss: 5.3301e-05\n",
      "Epoch 64/75\n",
      "37/37 [==============================] - 7s 181ms/step - loss: 8.2486e-05 - val_loss: 1.0270e-04\n",
      "Epoch 65/75\n",
      "37/37 [==============================] - 7s 194ms/step - loss: 8.4032e-05 - val_loss: 2.1432e-04\n",
      "Epoch 66/75\n",
      "37/37 [==============================] - 8s 208ms/step - loss: 8.2924e-05 - val_loss: 7.3635e-05\n",
      "Epoch 67/75\n",
      "37/37 [==============================] - 8s 215ms/step - loss: 8.0047e-05 - val_loss: 7.3739e-05\n",
      "Epoch 68/75\n",
      "37/37 [==============================] - 7s 179ms/step - loss: 7.8706e-05 - val_loss: 8.3915e-05\n",
      "Epoch 69/75\n",
      "37/37 [==============================] - 8s 207ms/step - loss: 8.5713e-05 - val_loss: 4.8103e-05\n",
      "Epoch 70/75\n",
      "37/37 [==============================] - 7s 200ms/step - loss: 9.1682e-05 - val_loss: 8.6925e-05\n",
      "Epoch 71/75\n",
      "37/37 [==============================] - 7s 185ms/step - loss: 7.8490e-05 - val_loss: 2.1667e-04\n",
      "Epoch 72/75\n",
      "37/37 [==============================] - 7s 181ms/step - loss: 8.7804e-05 - val_loss: 4.5012e-05\n",
      "Epoch 73/75\n",
      "37/37 [==============================] - 7s 183ms/step - loss: 8.9002e-05 - val_loss: 6.0981e-05\n",
      "Epoch 74/75\n",
      "37/37 [==============================] - 7s 199ms/step - loss: 7.4622e-05 - val_loss: 9.8880e-05\n",
      "Epoch 75/75\n",
      "37/37 [==============================] - 7s 182ms/step - loss: 8.0085e-05 - val_loss: 6.1923e-05\n"
     ]
    },
    {
     "data": {
      "text/plain": [
       "<keras.callbacks.History at 0x1e94f18c820>"
      ]
     },
     "execution_count": 91,
     "metadata": {},
     "output_type": "execute_result"
    }
   ],
   "source": [
    "model.fit(X_train, y_train, validation_data=(X_test, y_test), epochs=75, batch_size=64, verbose=1)"
   ]
  },
  {
   "cell_type": "code",
   "execution_count": 78,
   "metadata": {},
   "outputs": [],
   "source": [
    "# import tensorflow as tf\n",
    "# # from keras.model import load_weights\n",
    "# model = tf.keras.models.load_model('forex_model-stacked-LSTM-1.h5')"
   ]
  },
  {
   "cell_type": "code",
   "execution_count": 92,
   "metadata": {},
   "outputs": [
    {
     "name": "stdout",
     "output_type": "stream",
     "text": [
      "74/74 [==============================] - 3s 34ms/step\n",
      "30/30 [==============================] - 1s 33ms/step\n"
     ]
    }
   ],
   "source": [
    "train_predict = model.predict(X_train)\n",
    "test_predict = model.predict(X_test)"
   ]
  },
  {
   "cell_type": "code",
   "execution_count": 93,
   "metadata": {},
   "outputs": [],
   "source": [
    "train_predict = scaler.inverse_transform(train_predict)\n",
    "test_predict = scaler.inverse_transform(test_predict)"
   ]
  },
  {
   "cell_type": "code",
   "execution_count": 94,
   "metadata": {},
   "outputs": [
    {
     "data": {
      "text/plain": [
       "60.23473664635518"
      ]
     },
     "execution_count": 94,
     "metadata": {},
     "output_type": "execute_result"
    }
   ],
   "source": [
    "import math\n",
    "from sklearn.metrics import mean_squared_error\n",
    "\n",
    "# train data RMSE\n",
    "math.sqrt(mean_squared_error(y_train,train_predict))"
   ]
  },
  {
   "cell_type": "code",
   "execution_count": 95,
   "metadata": {},
   "outputs": [
    {
     "data": {
      "text/plain": [
       "75.43224897321085"
      ]
     },
     "execution_count": 95,
     "metadata": {},
     "output_type": "execute_result"
    }
   ],
   "source": [
    "# test data RMSE\n",
    "math.sqrt(mean_squared_error(y_test,test_predict))"
   ]
  },
  {
   "cell_type": "code",
   "execution_count": 107,
   "metadata": {},
   "outputs": [],
   "source": [
    "model.save('forex_model-stacked-LSTM-4-75-epochs.h5')"
   ]
  },
  {
   "cell_type": "code",
   "execution_count": 54,
   "metadata": {},
   "outputs": [
    {
     "data": {
      "text/plain": [
       "949"
      ]
     },
     "execution_count": 54,
     "metadata": {},
     "output_type": "execute_result"
    }
   ],
   "source": [
    "len(test_predict)"
   ]
  },
  {
   "cell_type": "code",
   "execution_count": 96,
   "metadata": {},
   "outputs": [
    {
     "data": {
      "image/png": "[encoded data removed]",
      "text/plain": [
       "<Figure size 640x480 with 1 Axes>"
      ]
     },
     "metadata": {},
     "output_type": "display_data"
    }
   ],
   "source": [
    "look_back=100\n",
    "trainPredictPlot = np.empty_like(df1)\n",
    "trainPredictPlot[:, :] = np.nan\n",
    "trainPredictPlot[look_back:len(train_predict)+look_back, :] = train_predict\n",
    "# shift test predictions for plotting\n",
    "testPredictPlot = np.empty_like(df1)\n",
    "testPredictPlot[:, :] = np.nan\n",
    "testPredictPlot[len(train_predict)+(look_back*2)+1:len(df1)-1, :] = test_predict\n",
    "# plot baseline and predictions\n",
    "plt.plot(scaler.inverse_transform(df1))\n",
    "plt.plot(trainPredictPlot)\n",
    "plt.plot(testPredictPlot)\n",
    "plt.show()"
   ]
  },
  {
   "cell_type": "code",
   "execution_count": 97,
   "metadata": {},
   "outputs": [
    {
     "data": {
      "text/plain": [
       "1050"
      ]
     },
     "execution_count": 97,
     "metadata": {},
     "output_type": "execute_result"
    }
   ],
   "source": [
    "len(test_data)"
   ]
  },
  {
   "cell_type": "code",
   "execution_count": 98,
   "metadata": {},
   "outputs": [
    {
     "data": {
      "text/plain": [
       "(1, 100)"
      ]
     },
     "execution_count": 98,
     "metadata": {},
     "output_type": "execute_result"
    }
   ],
   "source": [
    "x_input=test_data[len(test_data)-100:].reshape(1,-1)\n",
    "x_input.shape"
   ]
  },
  {
   "cell_type": "code",
   "execution_count": 99,
   "metadata": {},
   "outputs": [
    {
     "data": {
      "text/plain": [
       "[0.9647973802701595,\n",
       " 0.9510591485878017,\n",
       " 0.9556641424478098,\n",
       " 0.9645671305771593,\n",
       " 0.9646182971756037,\n",
       " 0.9597574703233727,\n",
       " 0.9546408104789192,\n",
       " 0.9479635693819073,\n",
       " 0.9607296356938189,\n",
       " 0.9636972984036019,\n",
       " 0.9610622185837083,\n",
       " 0.959194637740483,\n",
       " 0.9615483012689319,\n",
       " 0.9618041342611543,\n",
       " 0.9674068767908308,\n",
       " 0.9671766270978306,\n",
       " 0.9750818665575112,\n",
       " 0.9793542775276298,\n",
       " 0.9930157593123206,\n",
       " 0.9960857552189928,\n",
       " 0.9907132623823169,\n",
       " 0.9871571837904212,\n",
       " 0.9871316004911994,\n",
       " 0.989229431027425,\n",
       " 0.9973649201801063,\n",
       " 0.9932715923045434,\n",
       " 0.9922482603356524,\n",
       " 0.9932715923045434,\n",
       " 0.9918133442488741,\n",
       " 0.9956764224314363,\n",
       " 0.9953182562423251,\n",
       " 0.9891782644289806,\n",
       " 0.9970323372902168,\n",
       " 0.9905085959885385,\n",
       " 0.9904574293900941,\n",
       " 0.9850849365534178,\n",
       " 0.9830382726156361,\n",
       " 0.9658974621367171,\n",
       " 0.9692232910356118,\n",
       " 0.9740841178878428,\n",
       " 0.9728049529267293,\n",
       " 0.9745957838722881,\n",
       " 0.9730607859189517,\n",
       " 0.9800961932050758,\n",
       " 0.9803520261972982,\n",
       " 0.9965974212034381,\n",
       " 0.9899457634056488,\n",
       " 0.9873874334834218,\n",
       " 0.9871316004911994,\n",
       " 0.9914040114613181,\n",
       " 0.987003683995088,\n",
       " 0.980121776504298,\n",
       " 0.9826289398280801,\n",
       " 0.9786891117478509,\n",
       " 0.9784844453540729,\n",
       " 0.9786379451494065,\n",
       " 0.976130781825624,\n",
       " 0.9781774457634056,\n",
       " 0.9789449447400733,\n",
       " 0.9763866148178468,\n",
       " 0.9720374539500611,\n",
       " 0.9694791240278342,\n",
       " 0.9705024559967252,\n",
       " 0.9731887024150636,\n",
       " 0.9751074498567334,\n",
       " 0.972293286942284,\n",
       " 0.965129963160049,\n",
       " 0.9694791240278342,\n",
       " 0.9735724519033975,\n",
       " 0.976130781825624,\n",
       " 0.9808636921817435,\n",
       " 0.977154113794515,\n",
       " 0.9748516168645109,\n",
       " 0.9728049529267293,\n",
       " 0.9731887024150636,\n",
       " 0.967432460090053,\n",
       " 0.966281211625051,\n",
       " 0.9669207941056077,\n",
       " 0.9681999590667212,\n",
       " 0.9676882930822759,\n",
       " 0.9678162095783869,\n",
       " 0.9666649611133848,\n",
       " 0.9664091281211624,\n",
       " 0.9681999590667212,\n",
       " 0.9766424478100693,\n",
       " 0.9715257879656163,\n",
       " 0.9763866148178468,\n",
       " 0.9785100286532951,\n",
       " 0.9801473598035202,\n",
       " 0.9808381088825213,\n",
       " 0.98431743757675,\n",
       " 0.9925040933278753,\n",
       " 0.9965462546049937,\n",
       " 0.9955740892345475,\n",
       " 0.9953182562423251,\n",
       " 0.9912249283667622,\n",
       " 0.9928366762177652,\n",
       " 0.9886665984445353,\n",
       " 0.9890759312320914,\n",
       " 0.9910970118706508]"
      ]
     },
     "execution_count": 99,
     "metadata": {},
     "output_type": "execute_result"
    }
   ],
   "source": [
    "temp_input=list(x_input)\n",
    "temp_input=temp_input[0].tolist()\n",
    "temp_input"
   ]
  },
  {
   "cell_type": "code",
   "execution_count": 100,
   "metadata": {},
   "outputs": [
    {
     "name": "stdout",
     "output_type": "stream",
     "text": [
      "[0.99466217]\n",
      "101\n",
      "1 day input [0.95105915 0.95566414 0.96456713 0.9646183  0.95975747 0.95464081\n",
      " 0.94796357 0.96072964 0.9636973  0.96106222 0.95919464 0.9615483\n",
      " 0.96180413 0.96740688 0.96717663 0.97508187 0.97935428 0.99301576\n",
      " 0.99608576 0.99071326 0.98715718 0.9871316  0.98922943 0.99736492\n",
      " 0.99327159 0.99224826 0.99327159 0.99181334 0.99567642 0.99531826\n",
      " 0.98917826 0.99703234 0.9905086  0.99045743 0.98508494 0.98303827\n",
      " 0.96589746 0.96922329 0.97408412 0.97280495 0.97459578 0.97306079\n",
      " 0.98009619 0.98035203 0.99659742 0.98994576 0.98738743 0.9871316\n",
      " 0.99140401 0.98700368 0.98012178 0.98262894 0.97868911 0.97848445\n",
      " 0.97863795 0.97613078 0.97817745 0.97894494 0.97638661 0.97203745\n",
      " 0.96947912 0.97050246 0.9731887  0.97510745 0.97229329 0.96512996\n",
      " 0.96947912 0.97357245 0.97613078 0.98086369 0.97715411 0.97485162\n",
      " 0.97280495 0.9731887  0.96743246 0.96628121 0.96692079 0.96819996\n",
      " 0.96768829 0.96781621 0.96666496 0.96640913 0.96819996 0.97664245\n",
      " 0.97152579 0.97638661 0.97851003 0.98014736 0.98083811 0.98431744\n",
      " 0.99250409 0.99654625 0.99557409 0.99531826 0.99122493 0.99283668\n",
      " 0.9886666  0.98907593 0.99109701 0.99466217]\n",
      "1 day output [[0.9978896]]\n",
      "2 day input [0.95566414 0.96456713 0.9646183  0.95975747 0.95464081 0.94796357\n",
      " 0.96072964 0.9636973  0.96106222 0.95919464 0.9615483  0.96180413\n",
      " 0.96740688 0.96717663 0.97508187 0.97935428 0.99301576 0.99608576\n",
      " 0.99071326 0.98715718 0.9871316  0.98922943 0.99736492 0.99327159\n",
      " 0.99224826 0.99327159 0.99181334 0.99567642 0.99531826 0.98917826\n",
      " 0.99703234 0.9905086  0.99045743 0.98508494 0.98303827 0.96589746\n",
      " 0.96922329 0.97408412 0.97280495 0.97459578 0.97306079 0.98009619\n",
      " 0.98035203 0.99659742 0.98994576 0.98738743 0.9871316  0.99140401\n",
      " 0.98700368 0.98012178 0.98262894 0.97868911 0.97848445 0.97863795\n",
      " 0.97613078 0.97817745 0.97894494 0.97638661 0.97203745 0.96947912\n",
      " 0.97050246 0.9731887  0.97510745 0.97229329 0.96512996 0.96947912\n",
      " 0.97357245 0.97613078 0.98086369 0.97715411 0.97485162 0.97280495\n",
      " 0.9731887  0.96743246 0.96628121 0.96692079 0.96819996 0.96768829\n",
      " 0.96781621 0.96666496 0.96640913 0.96819996 0.97664245 0.97152579\n",
      " 0.97638661 0.97851003 0.98014736 0.98083811 0.98431744 0.99250409\n",
      " 0.99654625 0.99557409 0.99531826 0.99122493 0.99283668 0.9886666\n",
      " 0.98907593 0.99109701 0.99466217 0.99788958]\n",
      "2 day output [[1.0010567]]\n",
      "3 day input [0.96456713 0.9646183  0.95975747 0.95464081 0.94796357 0.96072964\n",
      " 0.9636973  0.96106222 0.95919464 0.9615483  0.96180413 0.96740688\n",
      " 0.96717663 0.97508187 0.97935428 0.99301576 0.99608576 0.99071326\n",
      " 0.98715718 0.9871316  0.98922943 0.99736492 0.99327159 0.99224826\n",
      " 0.99327159 0.99181334 0.99567642 0.99531826 0.98917826 0.99703234\n",
      " 0.9905086  0.99045743 0.98508494 0.98303827 0.96589746 0.96922329\n",
      " 0.97408412 0.97280495 0.97459578 0.97306079 0.98009619 0.98035203\n",
      " 0.99659742 0.98994576 0.98738743 0.9871316  0.99140401 0.98700368\n",
      " 0.98012178 0.98262894 0.97868911 0.97848445 0.97863795 0.97613078\n",
      " 0.97817745 0.97894494 0.97638661 0.97203745 0.96947912 0.97050246\n",
      " 0.9731887  0.97510745 0.97229329 0.96512996 0.96947912 0.97357245\n",
      " 0.97613078 0.98086369 0.97715411 0.97485162 0.97280495 0.9731887\n",
      " 0.96743246 0.96628121 0.96692079 0.96819996 0.96768829 0.96781621\n",
      " 0.96666496 0.96640913 0.96819996 0.97664245 0.97152579 0.97638661\n",
      " 0.97851003 0.98014736 0.98083811 0.98431744 0.99250409 0.99654625\n",
      " 0.99557409 0.99531826 0.99122493 0.99283668 0.9886666  0.98907593\n",
      " 0.99109701 0.99466217 0.99788958 1.00105667]\n",
      "3 day output [[1.0042292]]\n",
      "4 day input [0.9646183  0.95975747 0.95464081 0.94796357 0.96072964 0.9636973\n",
      " 0.96106222 0.95919464 0.9615483  0.96180413 0.96740688 0.96717663\n",
      " 0.97508187 0.97935428 0.99301576 0.99608576 0.99071326 0.98715718\n",
      " 0.9871316  0.98922943 0.99736492 0.99327159 0.99224826 0.99327159\n",
      " 0.99181334 0.99567642 0.99531826 0.98917826 0.99703234 0.9905086\n",
      " 0.99045743 0.98508494 0.98303827 0.96589746 0.96922329 0.97408412\n",
      " 0.97280495 0.97459578 0.97306079 0.98009619 0.98035203 0.99659742\n",
      " 0.98994576 0.98738743 0.9871316  0.99140401 0.98700368 0.98012178\n",
      " 0.98262894 0.97868911 0.97848445 0.97863795 0.97613078 0.97817745\n",
      " 0.97894494 0.97638661 0.97203745 0.96947912 0.97050246 0.9731887\n",
      " 0.97510745 0.97229329 0.96512996 0.96947912 0.97357245 0.97613078\n",
      " 0.98086369 0.97715411 0.97485162 0.97280495 0.9731887  0.96743246\n",
      " 0.96628121 0.96692079 0.96819996 0.96768829 0.96781621 0.96666496\n",
      " 0.96640913 0.96819996 0.97664245 0.97152579 0.97638661 0.97851003\n",
      " 0.98014736 0.98083811 0.98431744 0.99250409 0.99654625 0.99557409\n",
      " 0.99531826 0.99122493 0.99283668 0.9886666  0.98907593 0.99109701\n",
      " 0.99466217 0.99788958 1.00105667 1.00422919]\n",
      "4 day output [[1.0072176]]\n",
      "5 day input [0.95975747 0.95464081 0.94796357 0.96072964 0.9636973  0.96106222\n",
      " 0.95919464 0.9615483  0.96180413 0.96740688 0.96717663 0.97508187\n",
      " 0.97935428 0.99301576 0.99608576 0.99071326 0.98715718 0.9871316\n",
      " 0.98922943 0.99736492 0.99327159 0.99224826 0.99327159 0.99181334\n",
      " 0.99567642 0.99531826 0.98917826 0.99703234 0.9905086  0.99045743\n",
      " 0.98508494 0.98303827 0.96589746 0.96922329 0.97408412 0.97280495\n",
      " 0.97459578 0.97306079 0.98009619 0.98035203 0.99659742 0.98994576\n",
      " 0.98738743 0.9871316  0.99140401 0.98700368 0.98012178 0.98262894\n",
      " 0.97868911 0.97848445 0.97863795 0.97613078 0.97817745 0.97894494\n",
      " 0.97638661 0.97203745 0.96947912 0.97050246 0.9731887  0.97510745\n",
      " 0.97229329 0.96512996 0.96947912 0.97357245 0.97613078 0.98086369\n",
      " 0.97715411 0.97485162 0.97280495 0.9731887  0.96743246 0.96628121\n",
      " 0.96692079 0.96819996 0.96768829 0.96781621 0.96666496 0.96640913\n",
      " 0.96819996 0.97664245 0.97152579 0.97638661 0.97851003 0.98014736\n",
      " 0.98083811 0.98431744 0.99250409 0.99654625 0.99557409 0.99531826\n",
      " 0.99122493 0.99283668 0.9886666  0.98907593 0.99109701 0.99466217\n",
      " 0.99788958 1.00105667 1.00422919 1.00721765]\n",
      "5 day output [[1.0100259]]\n",
      "6 day input [0.95464081 0.94796357 0.96072964 0.9636973  0.96106222 0.95919464\n",
      " 0.9615483  0.96180413 0.96740688 0.96717663 0.97508187 0.97935428\n",
      " 0.99301576 0.99608576 0.99071326 0.98715718 0.9871316  0.98922943\n",
      " 0.99736492 0.99327159 0.99224826 0.99327159 0.99181334 0.99567642\n",
      " 0.99531826 0.98917826 0.99703234 0.9905086  0.99045743 0.98508494\n",
      " 0.98303827 0.96589746 0.96922329 0.97408412 0.97280495 0.97459578\n",
      " 0.97306079 0.98009619 0.98035203 0.99659742 0.98994576 0.98738743\n",
      " 0.9871316  0.99140401 0.98700368 0.98012178 0.98262894 0.97868911\n",
      " 0.97848445 0.97863795 0.97613078 0.97817745 0.97894494 0.97638661\n",
      " 0.97203745 0.96947912 0.97050246 0.9731887  0.97510745 0.97229329\n",
      " 0.96512996 0.96947912 0.97357245 0.97613078 0.98086369 0.97715411\n",
      " 0.97485162 0.97280495 0.9731887  0.96743246 0.96628121 0.96692079\n",
      " 0.96819996 0.96768829 0.96781621 0.96666496 0.96640913 0.96819996\n",
      " 0.97664245 0.97152579 0.97638661 0.97851003 0.98014736 0.98083811\n",
      " 0.98431744 0.99250409 0.99654625 0.99557409 0.99531826 0.99122493\n",
      " 0.99283668 0.9886666  0.98907593 0.99109701 0.99466217 0.99788958\n",
      " 1.00105667 1.00422919 1.00721765 1.01002586]\n",
      "6 day output [[1.0126647]]\n",
      "7 day input [0.94796357 0.96072964 0.9636973  0.96106222 0.95919464 0.9615483\n",
      " 0.96180413 0.96740688 0.96717663 0.97508187 0.97935428 0.99301576\n",
      " 0.99608576 0.99071326 0.98715718 0.9871316  0.98922943 0.99736492\n",
      " 0.99327159 0.99224826 0.99327159 0.99181334 0.99567642 0.99531826\n",
      " 0.98917826 0.99703234 0.9905086  0.99045743 0.98508494 0.98303827\n",
      " 0.96589746 0.96922329 0.97408412 0.97280495 0.97459578 0.97306079\n",
      " 0.98009619 0.98035203 0.99659742 0.98994576 0.98738743 0.9871316\n",
      " 0.99140401 0.98700368 0.98012178 0.98262894 0.97868911 0.97848445\n",
      " 0.97863795 0.97613078 0.97817745 0.97894494 0.97638661 0.97203745\n",
      " 0.96947912 0.97050246 0.9731887  0.97510745 0.97229329 0.96512996\n",
      " 0.96947912 0.97357245 0.97613078 0.98086369 0.97715411 0.97485162\n",
      " 0.97280495 0.9731887  0.96743246 0.96628121 0.96692079 0.96819996\n",
      " 0.96768829 0.96781621 0.96666496 0.96640913 0.96819996 0.97664245\n",
      " 0.97152579 0.97638661 0.97851003 0.98014736 0.98083811 0.98431744\n",
      " 0.99250409 0.99654625 0.99557409 0.99531826 0.99122493 0.99283668\n",
      " 0.9886666  0.98907593 0.99109701 0.99466217 0.99788958 1.00105667\n",
      " 1.00422919 1.00721765 1.01002586 1.01266468]\n",
      "7 day output [[1.0151746]]\n",
      "8 day input [0.96072964 0.9636973  0.96106222 0.95919464 0.9615483  0.96180413\n",
      " 0.96740688 0.96717663 0.97508187 0.97935428 0.99301576 0.99608576\n",
      " 0.99071326 0.98715718 0.9871316  0.98922943 0.99736492 0.99327159\n",
      " 0.99224826 0.99327159 0.99181334 0.99567642 0.99531826 0.98917826\n",
      " 0.99703234 0.9905086  0.99045743 0.98508494 0.98303827 0.96589746\n",
      " 0.96922329 0.97408412 0.97280495 0.97459578 0.97306079 0.98009619\n",
      " 0.98035203 0.99659742 0.98994576 0.98738743 0.9871316  0.99140401\n",
      " 0.98700368 0.98012178 0.98262894 0.97868911 0.97848445 0.97863795\n",
      " 0.97613078 0.97817745 0.97894494 0.97638661 0.97203745 0.96947912\n",
      " 0.97050246 0.9731887  0.97510745 0.97229329 0.96512996 0.96947912\n",
      " 0.97357245 0.97613078 0.98086369 0.97715411 0.97485162 0.97280495\n",
      " 0.9731887  0.96743246 0.96628121 0.96692079 0.96819996 0.96768829\n",
      " 0.96781621 0.96666496 0.96640913 0.96819996 0.97664245 0.97152579\n",
      " 0.97638661 0.97851003 0.98014736 0.98083811 0.98431744 0.99250409\n",
      " 0.99654625 0.99557409 0.99531826 0.99122493 0.99283668 0.9886666\n",
      " 0.98907593 0.99109701 0.99466217 0.99788958 1.00105667 1.00422919\n",
      " 1.00721765 1.01002586 1.01266468 1.01517463]\n",
      "8 day output [[1.0175983]]\n",
      "9 day input [0.9636973  0.96106222 0.95919464 0.9615483  0.96180413 0.96740688\n",
      " 0.96717663 0.97508187 0.97935428 0.99301576 0.99608576 0.99071326\n",
      " 0.98715718 0.9871316  0.98922943 0.99736492 0.99327159 0.99224826\n",
      " 0.99327159 0.99181334 0.99567642 0.99531826 0.98917826 0.99703234\n",
      " 0.9905086  0.99045743 0.98508494 0.98303827 0.96589746 0.96922329\n",
      " 0.97408412 0.97280495 0.97459578 0.97306079 0.98009619 0.98035203\n",
      " 0.99659742 0.98994576 0.98738743 0.9871316  0.99140401 0.98700368\n",
      " 0.98012178 0.98262894 0.97868911 0.97848445 0.97863795 0.97613078\n",
      " 0.97817745 0.97894494 0.97638661 0.97203745 0.96947912 0.97050246\n",
      " 0.9731887  0.97510745 0.97229329 0.96512996 0.96947912 0.97357245\n",
      " 0.97613078 0.98086369 0.97715411 0.97485162 0.97280495 0.9731887\n",
      " 0.96743246 0.96628121 0.96692079 0.96819996 0.96768829 0.96781621\n",
      " 0.96666496 0.96640913 0.96819996 0.97664245 0.97152579 0.97638661\n",
      " 0.97851003 0.98014736 0.98083811 0.98431744 0.99250409 0.99654625\n",
      " 0.99557409 0.99531826 0.99122493 0.99283668 0.9886666  0.98907593\n",
      " 0.99109701 0.99466217 0.99788958 1.00105667 1.00422919 1.00721765\n",
      " 1.01002586 1.01266468 1.01517463 1.01759827]\n",
      "9 day output [[1.0199755]]\n",
      "10 day input [0.96106222 0.95919464 0.9615483  0.96180413 0.96740688 0.96717663\n",
      " 0.97508187 0.97935428 0.99301576 0.99608576 0.99071326 0.98715718\n",
      " 0.9871316  0.98922943 0.99736492 0.99327159 0.99224826 0.99327159\n",
      " 0.99181334 0.99567642 0.99531826 0.98917826 0.99703234 0.9905086\n",
      " 0.99045743 0.98508494 0.98303827 0.96589746 0.96922329 0.97408412\n",
      " 0.97280495 0.97459578 0.97306079 0.98009619 0.98035203 0.99659742\n",
      " 0.98994576 0.98738743 0.9871316  0.99140401 0.98700368 0.98012178\n",
      " 0.98262894 0.97868911 0.97848445 0.97863795 0.97613078 0.97817745\n",
      " 0.97894494 0.97638661 0.97203745 0.96947912 0.97050246 0.9731887\n",
      " 0.97510745 0.97229329 0.96512996 0.96947912 0.97357245 0.97613078\n",
      " 0.98086369 0.97715411 0.97485162 0.97280495 0.9731887  0.96743246\n",
      " 0.96628121 0.96692079 0.96819996 0.96768829 0.96781621 0.96666496\n",
      " 0.96640913 0.96819996 0.97664245 0.97152579 0.97638661 0.97851003\n",
      " 0.98014736 0.98083811 0.98431744 0.99250409 0.99654625 0.99557409\n",
      " 0.99531826 0.99122493 0.99283668 0.9886666  0.98907593 0.99109701\n",
      " 0.99466217 0.99788958 1.00105667 1.00422919 1.00721765 1.01002586\n",
      " 1.01266468 1.01517463 1.01759827 1.01997554]\n",
      "10 day output [[1.0223356]]\n",
      "11 day input [0.95919464 0.9615483  0.96180413 0.96740688 0.96717663 0.97508187\n",
      " 0.97935428 0.99301576 0.99608576 0.99071326 0.98715718 0.9871316\n",
      " 0.98922943 0.99736492 0.99327159 0.99224826 0.99327159 0.99181334\n",
      " 0.99567642 0.99531826 0.98917826 0.99703234 0.9905086  0.99045743\n",
      " 0.98508494 0.98303827 0.96589746 0.96922329 0.97408412 0.97280495\n",
      " 0.97459578 0.97306079 0.98009619 0.98035203 0.99659742 0.98994576\n",
      " 0.98738743 0.9871316  0.99140401 0.98700368 0.98012178 0.98262894\n",
      " 0.97868911 0.97848445 0.97863795 0.97613078 0.97817745 0.97894494\n",
      " 0.97638661 0.97203745 0.96947912 0.97050246 0.9731887  0.97510745\n",
      " 0.97229329 0.96512996 0.96947912 0.97357245 0.97613078 0.98086369\n",
      " 0.97715411 0.97485162 0.97280495 0.9731887  0.96743246 0.96628121\n",
      " 0.96692079 0.96819996 0.96768829 0.96781621 0.96666496 0.96640913\n",
      " 0.96819996 0.97664245 0.97152579 0.97638661 0.97851003 0.98014736\n",
      " 0.98083811 0.98431744 0.99250409 0.99654625 0.99557409 0.99531826\n",
      " 0.99122493 0.99283668 0.9886666  0.98907593 0.99109701 0.99466217\n",
      " 0.99788958 1.00105667 1.00422919 1.00721765 1.01002586 1.01266468\n",
      " 1.01517463 1.01759827 1.01997554 1.02233565]\n",
      "11 day output [[1.0246966]]\n",
      "12 day input [0.9615483  0.96180413 0.96740688 0.96717663 0.97508187 0.97935428\n",
      " 0.99301576 0.99608576 0.99071326 0.98715718 0.9871316  0.98922943\n",
      " 0.99736492 0.99327159 0.99224826 0.99327159 0.99181334 0.99567642\n",
      " 0.99531826 0.98917826 0.99703234 0.9905086  0.99045743 0.98508494\n",
      " 0.98303827 0.96589746 0.96922329 0.97408412 0.97280495 0.97459578\n",
      " 0.97306079 0.98009619 0.98035203 0.99659742 0.98994576 0.98738743\n",
      " 0.9871316  0.99140401 0.98700368 0.98012178 0.98262894 0.97868911\n",
      " 0.97848445 0.97863795 0.97613078 0.97817745 0.97894494 0.97638661\n",
      " 0.97203745 0.96947912 0.97050246 0.9731887  0.97510745 0.97229329\n",
      " 0.96512996 0.96947912 0.97357245 0.97613078 0.98086369 0.97715411\n",
      " 0.97485162 0.97280495 0.9731887  0.96743246 0.96628121 0.96692079\n",
      " 0.96819996 0.96768829 0.96781621 0.96666496 0.96640913 0.96819996\n",
      " 0.97664245 0.97152579 0.97638661 0.97851003 0.98014736 0.98083811\n",
      " 0.98431744 0.99250409 0.99654625 0.99557409 0.99531826 0.99122493\n",
      " 0.99283668 0.9886666  0.98907593 0.99109701 0.99466217 0.99788958\n",
      " 1.00105667 1.00422919 1.00721765 1.01002586 1.01266468 1.01517463\n",
      " 1.01759827 1.01997554 1.02233565 1.02469659]\n",
      "12 day output [[1.0270663]]\n",
      "13 day input [0.96180413 0.96740688 0.96717663 0.97508187 0.97935428 0.99301576\n",
      " 0.99608576 0.99071326 0.98715718 0.9871316  0.98922943 0.99736492\n",
      " 0.99327159 0.99224826 0.99327159 0.99181334 0.99567642 0.99531826\n",
      " 0.98917826 0.99703234 0.9905086  0.99045743 0.98508494 0.98303827\n",
      " 0.96589746 0.96922329 0.97408412 0.97280495 0.97459578 0.97306079\n",
      " 0.98009619 0.98035203 0.99659742 0.98994576 0.98738743 0.9871316\n",
      " 0.99140401 0.98700368 0.98012178 0.98262894 0.97868911 0.97848445\n",
      " 0.97863795 0.97613078 0.97817745 0.97894494 0.97638661 0.97203745\n",
      " 0.96947912 0.97050246 0.9731887  0.97510745 0.97229329 0.96512996\n",
      " 0.96947912 0.97357245 0.97613078 0.98086369 0.97715411 0.97485162\n",
      " 0.97280495 0.9731887  0.96743246 0.96628121 0.96692079 0.96819996\n",
      " 0.96768829 0.96781621 0.96666496 0.96640913 0.96819996 0.97664245\n",
      " 0.97152579 0.97638661 0.97851003 0.98014736 0.98083811 0.98431744\n",
      " 0.99250409 0.99654625 0.99557409 0.99531826 0.99122493 0.99283668\n",
      " 0.9886666  0.98907593 0.99109701 0.99466217 0.99788958 1.00105667\n",
      " 1.00422919 1.00721765 1.01002586 1.01266468 1.01517463 1.01759827\n",
      " 1.01997554 1.02233565 1.02469659 1.02706635]\n",
      "13 day output [[1.0294453]]\n",
      "14 day input [0.96740688 0.96717663 0.97508187 0.97935428 0.99301576 0.99608576\n",
      " 0.99071326 0.98715718 0.9871316  0.98922943 0.99736492 0.99327159\n",
      " 0.99224826 0.99327159 0.99181334 0.99567642 0.99531826 0.98917826\n",
      " 0.99703234 0.9905086  0.99045743 0.98508494 0.98303827 0.96589746\n",
      " 0.96922329 0.97408412 0.97280495 0.97459578 0.97306079 0.98009619\n",
      " 0.98035203 0.99659742 0.98994576 0.98738743 0.9871316  0.99140401\n",
      " 0.98700368 0.98012178 0.98262894 0.97868911 0.97848445 0.97863795\n",
      " 0.97613078 0.97817745 0.97894494 0.97638661 0.97203745 0.96947912\n",
      " 0.97050246 0.9731887  0.97510745 0.97229329 0.96512996 0.96947912\n",
      " 0.97357245 0.97613078 0.98086369 0.97715411 0.97485162 0.97280495\n",
      " 0.9731887  0.96743246 0.96628121 0.96692079 0.96819996 0.96768829\n",
      " 0.96781621 0.96666496 0.96640913 0.96819996 0.97664245 0.97152579\n",
      " 0.97638661 0.97851003 0.98014736 0.98083811 0.98431744 0.99250409\n",
      " 0.99654625 0.99557409 0.99531826 0.99122493 0.99283668 0.9886666\n",
      " 0.98907593 0.99109701 0.99466217 0.99788958 1.00105667 1.00422919\n",
      " 1.00721765 1.01002586 1.01266468 1.01517463 1.01759827 1.01997554\n",
      " 1.02233565 1.02469659 1.02706635 1.02944529]\n",
      "14 day output [[1.0318286]]\n",
      "15 day input [0.96717663 0.97508187 0.97935428 0.99301576 0.99608576 0.99071326\n",
      " 0.98715718 0.9871316  0.98922943 0.99736492 0.99327159 0.99224826\n",
      " 0.99327159 0.99181334 0.99567642 0.99531826 0.98917826 0.99703234\n",
      " 0.9905086  0.99045743 0.98508494 0.98303827 0.96589746 0.96922329\n",
      " 0.97408412 0.97280495 0.97459578 0.97306079 0.98009619 0.98035203\n",
      " 0.99659742 0.98994576 0.98738743 0.9871316  0.99140401 0.98700368\n",
      " 0.98012178 0.98262894 0.97868911 0.97848445 0.97863795 0.97613078\n",
      " 0.97817745 0.97894494 0.97638661 0.97203745 0.96947912 0.97050246\n",
      " 0.9731887  0.97510745 0.97229329 0.96512996 0.96947912 0.97357245\n",
      " 0.97613078 0.98086369 0.97715411 0.97485162 0.97280495 0.9731887\n",
      " 0.96743246 0.96628121 0.96692079 0.96819996 0.96768829 0.96781621\n",
      " 0.96666496 0.96640913 0.96819996 0.97664245 0.97152579 0.97638661\n",
      " 0.97851003 0.98014736 0.98083811 0.98431744 0.99250409 0.99654625\n",
      " 0.99557409 0.99531826 0.99122493 0.99283668 0.9886666  0.98907593\n",
      " 0.99109701 0.99466217 0.99788958 1.00105667 1.00422919 1.00721765\n",
      " 1.01002586 1.01266468 1.01517463 1.01759827 1.01997554 1.02233565\n",
      " 1.02469659 1.02706635 1.02944529 1.03182864]\n",
      "15 day output [[1.03421]]\n",
      "16 day input [0.97508187 0.97935428 0.99301576 0.99608576 0.99071326 0.98715718\n",
      " 0.9871316  0.98922943 0.99736492 0.99327159 0.99224826 0.99327159\n",
      " 0.99181334 0.99567642 0.99531826 0.98917826 0.99703234 0.9905086\n",
      " 0.99045743 0.98508494 0.98303827 0.96589746 0.96922329 0.97408412\n",
      " 0.97280495 0.97459578 0.97306079 0.98009619 0.98035203 0.99659742\n",
      " 0.98994576 0.98738743 0.9871316  0.99140401 0.98700368 0.98012178\n",
      " 0.98262894 0.97868911 0.97848445 0.97863795 0.97613078 0.97817745\n",
      " 0.97894494 0.97638661 0.97203745 0.96947912 0.97050246 0.9731887\n",
      " 0.97510745 0.97229329 0.96512996 0.96947912 0.97357245 0.97613078\n",
      " 0.98086369 0.97715411 0.97485162 0.97280495 0.9731887  0.96743246\n",
      " 0.96628121 0.96692079 0.96819996 0.96768829 0.96781621 0.96666496\n",
      " 0.96640913 0.96819996 0.97664245 0.97152579 0.97638661 0.97851003\n",
      " 0.98014736 0.98083811 0.98431744 0.99250409 0.99654625 0.99557409\n",
      " 0.99531826 0.99122493 0.99283668 0.9886666  0.98907593 0.99109701\n",
      " 0.99466217 0.99788958 1.00105667 1.00422919 1.00721765 1.01002586\n",
      " 1.01266468 1.01517463 1.01759827 1.01997554 1.02233565 1.02469659\n",
      " 1.02706635 1.02944529 1.03182864 1.03420997]\n",
      "16 day output [[1.036582]]\n",
      "17 day input [0.97935428 0.99301576 0.99608576 0.99071326 0.98715718 0.9871316\n",
      " 0.98922943 0.99736492 0.99327159 0.99224826 0.99327159 0.99181334\n",
      " 0.99567642 0.99531826 0.98917826 0.99703234 0.9905086  0.99045743\n",
      " 0.98508494 0.98303827 0.96589746 0.96922329 0.97408412 0.97280495\n",
      " 0.97459578 0.97306079 0.98009619 0.98035203 0.99659742 0.98994576\n",
      " 0.98738743 0.9871316  0.99140401 0.98700368 0.98012178 0.98262894\n",
      " 0.97868911 0.97848445 0.97863795 0.97613078 0.97817745 0.97894494\n",
      " 0.97638661 0.97203745 0.96947912 0.97050246 0.9731887  0.97510745\n",
      " 0.97229329 0.96512996 0.96947912 0.97357245 0.97613078 0.98086369\n",
      " 0.97715411 0.97485162 0.97280495 0.9731887  0.96743246 0.96628121\n",
      " 0.96692079 0.96819996 0.96768829 0.96781621 0.96666496 0.96640913\n",
      " 0.96819996 0.97664245 0.97152579 0.97638661 0.97851003 0.98014736\n",
      " 0.98083811 0.98431744 0.99250409 0.99654625 0.99557409 0.99531826\n",
      " 0.99122493 0.99283668 0.9886666  0.98907593 0.99109701 0.99466217\n",
      " 0.99788958 1.00105667 1.00422919 1.00721765 1.01002586 1.01266468\n",
      " 1.01517463 1.01759827 1.01997554 1.02233565 1.02469659 1.02706635\n",
      " 1.02944529 1.03182864 1.03420997 1.03658199]\n",
      "17 day output [[1.0389382]]\n",
      "18 day input [0.99301576 0.99608576 0.99071326 0.98715718 0.9871316  0.98922943\n",
      " 0.99736492 0.99327159 0.99224826 0.99327159 0.99181334 0.99567642\n",
      " 0.99531826 0.98917826 0.99703234 0.9905086  0.99045743 0.98508494\n",
      " 0.98303827 0.96589746 0.96922329 0.97408412 0.97280495 0.97459578\n",
      " 0.97306079 0.98009619 0.98035203 0.99659742 0.98994576 0.98738743\n",
      " 0.9871316  0.99140401 0.98700368 0.98012178 0.98262894 0.97868911\n",
      " 0.97848445 0.97863795 0.97613078 0.97817745 0.97894494 0.97638661\n",
      " 0.97203745 0.96947912 0.97050246 0.9731887  0.97510745 0.97229329\n",
      " 0.96512996 0.96947912 0.97357245 0.97613078 0.98086369 0.97715411\n",
      " 0.97485162 0.97280495 0.9731887  0.96743246 0.96628121 0.96692079\n",
      " 0.96819996 0.96768829 0.96781621 0.96666496 0.96640913 0.96819996\n",
      " 0.97664245 0.97152579 0.97638661 0.97851003 0.98014736 0.98083811\n",
      " 0.98431744 0.99250409 0.99654625 0.99557409 0.99531826 0.99122493\n",
      " 0.99283668 0.9886666  0.98907593 0.99109701 0.99466217 0.99788958\n",
      " 1.00105667 1.00422919 1.00721765 1.01002586 1.01266468 1.01517463\n",
      " 1.01759827 1.01997554 1.02233565 1.02469659 1.02706635 1.02944529\n",
      " 1.03182864 1.03420997 1.03658199 1.03893816]\n",
      "18 day output [[1.0412742]]\n",
      "19 day input [0.99608576 0.99071326 0.98715718 0.9871316  0.98922943 0.99736492\n",
      " 0.99327159 0.99224826 0.99327159 0.99181334 0.99567642 0.99531826\n",
      " 0.98917826 0.99703234 0.9905086  0.99045743 0.98508494 0.98303827\n",
      " 0.96589746 0.96922329 0.97408412 0.97280495 0.97459578 0.97306079\n",
      " 0.98009619 0.98035203 0.99659742 0.98994576 0.98738743 0.9871316\n",
      " 0.99140401 0.98700368 0.98012178 0.98262894 0.97868911 0.97848445\n",
      " 0.97863795 0.97613078 0.97817745 0.97894494 0.97638661 0.97203745\n",
      " 0.96947912 0.97050246 0.9731887  0.97510745 0.97229329 0.96512996\n",
      " 0.96947912 0.97357245 0.97613078 0.98086369 0.97715411 0.97485162\n",
      " 0.97280495 0.9731887  0.96743246 0.96628121 0.96692079 0.96819996\n",
      " 0.96768829 0.96781621 0.96666496 0.96640913 0.96819996 0.97664245\n",
      " 0.97152579 0.97638661 0.97851003 0.98014736 0.98083811 0.98431744\n",
      " 0.99250409 0.99654625 0.99557409 0.99531826 0.99122493 0.99283668\n",
      " 0.9886666  0.98907593 0.99109701 0.99466217 0.99788958 1.00105667\n",
      " 1.00422919 1.00721765 1.01002586 1.01266468 1.01517463 1.01759827\n",
      " 1.01997554 1.02233565 1.02469659 1.02706635 1.02944529 1.03182864\n",
      " 1.03420997 1.03658199 1.03893816 1.04127419]\n",
      "19 day output [[1.043587]]\n",
      "20 day input [0.99071326 0.98715718 0.9871316  0.98922943 0.99736492 0.99327159\n",
      " 0.99224826 0.99327159 0.99181334 0.99567642 0.99531826 0.98917826\n",
      " 0.99703234 0.9905086  0.99045743 0.98508494 0.98303827 0.96589746\n",
      " 0.96922329 0.97408412 0.97280495 0.97459578 0.97306079 0.98009619\n",
      " 0.98035203 0.99659742 0.98994576 0.98738743 0.9871316  0.99140401\n",
      " 0.98700368 0.98012178 0.98262894 0.97868911 0.97848445 0.97863795\n",
      " 0.97613078 0.97817745 0.97894494 0.97638661 0.97203745 0.96947912\n",
      " 0.97050246 0.9731887  0.97510745 0.97229329 0.96512996 0.96947912\n",
      " 0.97357245 0.97613078 0.98086369 0.97715411 0.97485162 0.97280495\n",
      " 0.9731887  0.96743246 0.96628121 0.96692079 0.96819996 0.96768829\n",
      " 0.96781621 0.96666496 0.96640913 0.96819996 0.97664245 0.97152579\n",
      " 0.97638661 0.97851003 0.98014736 0.98083811 0.98431744 0.99250409\n",
      " 0.99654625 0.99557409 0.99531826 0.99122493 0.99283668 0.9886666\n",
      " 0.98907593 0.99109701 0.99466217 0.99788958 1.00105667 1.00422919\n",
      " 1.00721765 1.01002586 1.01266468 1.01517463 1.01759827 1.01997554\n",
      " 1.02233565 1.02469659 1.02706635 1.02944529 1.03182864 1.03420997\n",
      " 1.03658199 1.03893816 1.04127419 1.04358697]\n",
      "20 day output [[1.0458751]]\n",
      "21 day input [0.98715718 0.9871316  0.98922943 0.99736492 0.99327159 0.99224826\n",
      " 0.99327159 0.99181334 0.99567642 0.99531826 0.98917826 0.99703234\n",
      " 0.9905086  0.99045743 0.98508494 0.98303827 0.96589746 0.96922329\n",
      " 0.97408412 0.97280495 0.97459578 0.97306079 0.98009619 0.98035203\n",
      " 0.99659742 0.98994576 0.98738743 0.9871316  0.99140401 0.98700368\n",
      " 0.98012178 0.98262894 0.97868911 0.97848445 0.97863795 0.97613078\n",
      " 0.97817745 0.97894494 0.97638661 0.97203745 0.96947912 0.97050246\n",
      " 0.9731887  0.97510745 0.97229329 0.96512996 0.96947912 0.97357245\n",
      " 0.97613078 0.98086369 0.97715411 0.97485162 0.97280495 0.9731887\n",
      " 0.96743246 0.96628121 0.96692079 0.96819996 0.96768829 0.96781621\n",
      " 0.96666496 0.96640913 0.96819996 0.97664245 0.97152579 0.97638661\n",
      " 0.97851003 0.98014736 0.98083811 0.98431744 0.99250409 0.99654625\n",
      " 0.99557409 0.99531826 0.99122493 0.99283668 0.9886666  0.98907593\n",
      " 0.99109701 0.99466217 0.99788958 1.00105667 1.00422919 1.00721765\n",
      " 1.01002586 1.01266468 1.01517463 1.01759827 1.01997554 1.02233565\n",
      " 1.02469659 1.02706635 1.02944529 1.03182864 1.03420997 1.03658199\n",
      " 1.03893816 1.04127419 1.04358697 1.04587507]\n",
      "21 day output [[1.048138]]\n",
      "22 day input [0.9871316  0.98922943 0.99736492 0.99327159 0.99224826 0.99327159\n",
      " 0.99181334 0.99567642 0.99531826 0.98917826 0.99703234 0.9905086\n",
      " 0.99045743 0.98508494 0.98303827 0.96589746 0.96922329 0.97408412\n",
      " 0.97280495 0.97459578 0.97306079 0.98009619 0.98035203 0.99659742\n",
      " 0.98994576 0.98738743 0.9871316  0.99140401 0.98700368 0.98012178\n",
      " 0.98262894 0.97868911 0.97848445 0.97863795 0.97613078 0.97817745\n",
      " 0.97894494 0.97638661 0.97203745 0.96947912 0.97050246 0.9731887\n",
      " 0.97510745 0.97229329 0.96512996 0.96947912 0.97357245 0.97613078\n",
      " 0.98086369 0.97715411 0.97485162 0.97280495 0.9731887  0.96743246\n",
      " 0.96628121 0.96692079 0.96819996 0.96768829 0.96781621 0.96666496\n",
      " 0.96640913 0.96819996 0.97664245 0.97152579 0.97638661 0.97851003\n",
      " 0.98014736 0.98083811 0.98431744 0.99250409 0.99654625 0.99557409\n",
      " 0.99531826 0.99122493 0.99283668 0.9886666  0.98907593 0.99109701\n",
      " 0.99466217 0.99788958 1.00105667 1.00422919 1.00721765 1.01002586\n",
      " 1.01266468 1.01517463 1.01759827 1.01997554 1.02233565 1.02469659\n",
      " 1.02706635 1.02944529 1.03182864 1.03420997 1.03658199 1.03893816\n",
      " 1.04127419 1.04358697 1.04587507 1.04813802]\n",
      "22 day output [[1.0503765]]\n",
      "23 day input [0.98922943 0.99736492 0.99327159 0.99224826 0.99327159 0.99181334\n",
      " 0.99567642 0.99531826 0.98917826 0.99703234 0.9905086  0.99045743\n",
      " 0.98508494 0.98303827 0.96589746 0.96922329 0.97408412 0.97280495\n",
      " 0.97459578 0.97306079 0.98009619 0.98035203 0.99659742 0.98994576\n",
      " 0.98738743 0.9871316  0.99140401 0.98700368 0.98012178 0.98262894\n",
      " 0.97868911 0.97848445 0.97863795 0.97613078 0.97817745 0.97894494\n",
      " 0.97638661 0.97203745 0.96947912 0.97050246 0.9731887  0.97510745\n",
      " 0.97229329 0.96512996 0.96947912 0.97357245 0.97613078 0.98086369\n",
      " 0.97715411 0.97485162 0.97280495 0.9731887  0.96743246 0.96628121\n",
      " 0.96692079 0.96819996 0.96768829 0.96781621 0.96666496 0.96640913\n",
      " 0.96819996 0.97664245 0.97152579 0.97638661 0.97851003 0.98014736\n",
      " 0.98083811 0.98431744 0.99250409 0.99654625 0.99557409 0.99531826\n",
      " 0.99122493 0.99283668 0.9886666  0.98907593 0.99109701 0.99466217\n",
      " 0.99788958 1.00105667 1.00422919 1.00721765 1.01002586 1.01266468\n",
      " 1.01517463 1.01759827 1.01997554 1.02233565 1.02469659 1.02706635\n",
      " 1.02944529 1.03182864 1.03420997 1.03658199 1.03893816 1.04127419\n",
      " 1.04358697 1.04587507 1.04813802 1.05037653]\n",
      "23 day output [[1.0525914]]\n",
      "24 day input [0.99736492 0.99327159 0.99224826 0.99327159 0.99181334 0.99567642\n",
      " 0.99531826 0.98917826 0.99703234 0.9905086  0.99045743 0.98508494\n",
      " 0.98303827 0.96589746 0.96922329 0.97408412 0.97280495 0.97459578\n",
      " 0.97306079 0.98009619 0.98035203 0.99659742 0.98994576 0.98738743\n",
      " 0.9871316  0.99140401 0.98700368 0.98012178 0.98262894 0.97868911\n",
      " 0.97848445 0.97863795 0.97613078 0.97817745 0.97894494 0.97638661\n",
      " 0.97203745 0.96947912 0.97050246 0.9731887  0.97510745 0.97229329\n",
      " 0.96512996 0.96947912 0.97357245 0.97613078 0.98086369 0.97715411\n",
      " 0.97485162 0.97280495 0.9731887  0.96743246 0.96628121 0.96692079\n",
      " 0.96819996 0.96768829 0.96781621 0.96666496 0.96640913 0.96819996\n",
      " 0.97664245 0.97152579 0.97638661 0.97851003 0.98014736 0.98083811\n",
      " 0.98431744 0.99250409 0.99654625 0.99557409 0.99531826 0.99122493\n",
      " 0.99283668 0.9886666  0.98907593 0.99109701 0.99466217 0.99788958\n",
      " 1.00105667 1.00422919 1.00721765 1.01002586 1.01266468 1.01517463\n",
      " 1.01759827 1.01997554 1.02233565 1.02469659 1.02706635 1.02944529\n",
      " 1.03182864 1.03420997 1.03658199 1.03893816 1.04127419 1.04358697\n",
      " 1.04587507 1.04813802 1.05037653 1.05259144]\n",
      "24 day output [[1.0547842]]\n",
      "25 day input [0.99327159 0.99224826 0.99327159 0.99181334 0.99567642 0.99531826\n",
      " 0.98917826 0.99703234 0.9905086  0.99045743 0.98508494 0.98303827\n",
      " 0.96589746 0.96922329 0.97408412 0.97280495 0.97459578 0.97306079\n",
      " 0.98009619 0.98035203 0.99659742 0.98994576 0.98738743 0.9871316\n",
      " 0.99140401 0.98700368 0.98012178 0.98262894 0.97868911 0.97848445\n",
      " 0.97863795 0.97613078 0.97817745 0.97894494 0.97638661 0.97203745\n",
      " 0.96947912 0.97050246 0.9731887  0.97510745 0.97229329 0.96512996\n",
      " 0.96947912 0.97357245 0.97613078 0.98086369 0.97715411 0.97485162\n",
      " 0.97280495 0.9731887  0.96743246 0.96628121 0.96692079 0.96819996\n",
      " 0.96768829 0.96781621 0.96666496 0.96640913 0.96819996 0.97664245\n",
      " 0.97152579 0.97638661 0.97851003 0.98014736 0.98083811 0.98431744\n",
      " 0.99250409 0.99654625 0.99557409 0.99531826 0.99122493 0.99283668\n",
      " 0.9886666  0.98907593 0.99109701 0.99466217 0.99788958 1.00105667\n",
      " 1.00422919 1.00721765 1.01002586 1.01266468 1.01517463 1.01759827\n",
      " 1.01997554 1.02233565 1.02469659 1.02706635 1.02944529 1.03182864\n",
      " 1.03420997 1.03658199 1.03893816 1.04127419 1.04358697 1.04587507\n",
      " 1.04813802 1.05037653 1.05259144 1.05478418]\n",
      "25 day output [[1.0569557]]\n",
      "26 day input [0.99224826 0.99327159 0.99181334 0.99567642 0.99531826 0.98917826\n",
      " 0.99703234 0.9905086  0.99045743 0.98508494 0.98303827 0.96589746\n",
      " 0.96922329 0.97408412 0.97280495 0.97459578 0.97306079 0.98009619\n",
      " 0.98035203 0.99659742 0.98994576 0.98738743 0.9871316  0.99140401\n",
      " 0.98700368 0.98012178 0.98262894 0.97868911 0.97848445 0.97863795\n",
      " 0.97613078 0.97817745 0.97894494 0.97638661 0.97203745 0.96947912\n",
      " 0.97050246 0.9731887  0.97510745 0.97229329 0.96512996 0.96947912\n",
      " 0.97357245 0.97613078 0.98086369 0.97715411 0.97485162 0.97280495\n",
      " 0.9731887  0.96743246 0.96628121 0.96692079 0.96819996 0.96768829\n",
      " 0.96781621 0.96666496 0.96640913 0.96819996 0.97664245 0.97152579\n",
      " 0.97638661 0.97851003 0.98014736 0.98083811 0.98431744 0.99250409\n",
      " 0.99654625 0.99557409 0.99531826 0.99122493 0.99283668 0.9886666\n",
      " 0.98907593 0.99109701 0.99466217 0.99788958 1.00105667 1.00422919\n",
      " 1.00721765 1.01002586 1.01266468 1.01517463 1.01759827 1.01997554\n",
      " 1.02233565 1.02469659 1.02706635 1.02944529 1.03182864 1.03420997\n",
      " 1.03658199 1.03893816 1.04127419 1.04358697 1.04587507 1.04813802\n",
      " 1.05037653 1.05259144 1.05478418 1.0569557 ]\n",
      "26 day output [[1.059107]]\n",
      "27 day input [0.99327159 0.99181334 0.99567642 0.99531826 0.98917826 0.99703234\n",
      " 0.9905086  0.99045743 0.98508494 0.98303827 0.96589746 0.96922329\n",
      " 0.97408412 0.97280495 0.97459578 0.97306079 0.98009619 0.98035203\n",
      " 0.99659742 0.98994576 0.98738743 0.9871316  0.99140401 0.98700368\n",
      " 0.98012178 0.98262894 0.97868911 0.97848445 0.97863795 0.97613078\n",
      " 0.97817745 0.97894494 0.97638661 0.97203745 0.96947912 0.97050246\n",
      " 0.9731887  0.97510745 0.97229329 0.96512996 0.96947912 0.97357245\n",
      " 0.97613078 0.98086369 0.97715411 0.97485162 0.97280495 0.9731887\n",
      " 0.96743246 0.96628121 0.96692079 0.96819996 0.96768829 0.96781621\n",
      " 0.96666496 0.96640913 0.96819996 0.97664245 0.97152579 0.97638661\n",
      " 0.97851003 0.98014736 0.98083811 0.98431744 0.99250409 0.99654625\n",
      " 0.99557409 0.99531826 0.99122493 0.99283668 0.9886666  0.98907593\n",
      " 0.99109701 0.99466217 0.99788958 1.00105667 1.00422919 1.00721765\n",
      " 1.01002586 1.01266468 1.01517463 1.01759827 1.01997554 1.02233565\n",
      " 1.02469659 1.02706635 1.02944529 1.03182864 1.03420997 1.03658199\n",
      " 1.03893816 1.04127419 1.04358697 1.04587507 1.04813802 1.05037653\n",
      " 1.05259144 1.05478418 1.0569557  1.05910695]\n",
      "27 day output [[1.061239]]\n",
      "28 day input [0.99181334 0.99567642 0.99531826 0.98917826 0.99703234 0.9905086\n",
      " 0.99045743 0.98508494 0.98303827 0.96589746 0.96922329 0.97408412\n",
      " 0.97280495 0.97459578 0.97306079 0.98009619 0.98035203 0.99659742\n",
      " 0.98994576 0.98738743 0.9871316  0.99140401 0.98700368 0.98012178\n",
      " 0.98262894 0.97868911 0.97848445 0.97863795 0.97613078 0.97817745\n",
      " 0.97894494 0.97638661 0.97203745 0.96947912 0.97050246 0.9731887\n",
      " 0.97510745 0.97229329 0.96512996 0.96947912 0.97357245 0.97613078\n",
      " 0.98086369 0.97715411 0.97485162 0.97280495 0.9731887  0.96743246\n",
      " 0.96628121 0.96692079 0.96819996 0.96768829 0.96781621 0.96666496\n",
      " 0.96640913 0.96819996 0.97664245 0.97152579 0.97638661 0.97851003\n",
      " 0.98014736 0.98083811 0.98431744 0.99250409 0.99654625 0.99557409\n",
      " 0.99531826 0.99122493 0.99283668 0.9886666  0.98907593 0.99109701\n",
      " 0.99466217 0.99788958 1.00105667 1.00422919 1.00721765 1.01002586\n",
      " 1.01266468 1.01517463 1.01759827 1.01997554 1.02233565 1.02469659\n",
      " 1.02706635 1.02944529 1.03182864 1.03420997 1.03658199 1.03893816\n",
      " 1.04127419 1.04358697 1.04587507 1.04813802 1.05037653 1.05259144\n",
      " 1.05478418 1.0569557  1.05910695 1.061239  ]\n",
      "28 day output [[1.0633523]]\n",
      "29 day input [0.99567642 0.99531826 0.98917826 0.99703234 0.9905086  0.99045743\n",
      " 0.98508494 0.98303827 0.96589746 0.96922329 0.97408412 0.97280495\n",
      " 0.97459578 0.97306079 0.98009619 0.98035203 0.99659742 0.98994576\n",
      " 0.98738743 0.9871316  0.99140401 0.98700368 0.98012178 0.98262894\n",
      " 0.97868911 0.97848445 0.97863795 0.97613078 0.97817745 0.97894494\n",
      " 0.97638661 0.97203745 0.96947912 0.97050246 0.9731887  0.97510745\n",
      " 0.97229329 0.96512996 0.96947912 0.97357245 0.97613078 0.98086369\n",
      " 0.97715411 0.97485162 0.97280495 0.9731887  0.96743246 0.96628121\n",
      " 0.96692079 0.96819996 0.96768829 0.96781621 0.96666496 0.96640913\n",
      " 0.96819996 0.97664245 0.97152579 0.97638661 0.97851003 0.98014736\n",
      " 0.98083811 0.98431744 0.99250409 0.99654625 0.99557409 0.99531826\n",
      " 0.99122493 0.99283668 0.9886666  0.98907593 0.99109701 0.99466217\n",
      " 0.99788958 1.00105667 1.00422919 1.00721765 1.01002586 1.01266468\n",
      " 1.01517463 1.01759827 1.01997554 1.02233565 1.02469659 1.02706635\n",
      " 1.02944529 1.03182864 1.03420997 1.03658199 1.03893816 1.04127419\n",
      " 1.04358697 1.04587507 1.04813802 1.05037653 1.05259144 1.05478418\n",
      " 1.0569557  1.05910695 1.061239   1.06335235]\n",
      "29 day output [[1.0654479]]\n",
      "[[0.9946621656417847], [0.9978895783424377], [1.0010566711425781], [1.004229187965393], [1.0072176456451416], [1.0100258588790894], [1.0126646757125854], [1.0151746273040771], [1.017598271369934], [1.0199755430221558], [1.0223356485366821], [1.0246965885162354], [1.0270663499832153], [1.0294452905654907], [1.0318286418914795], [1.034209966659546], [1.0365819931030273], [1.0389381647109985], [1.0412741899490356], [1.0435869693756104], [1.045875072479248], [1.0481380224227905], [1.050376534461975], [1.0525914430618286], [1.0547841787338257], [1.0569556951522827], [1.0591069459915161], [1.0612390041351318], [1.063352346420288], [1.0654479265213013]]\n"
     ]
    }
   ],
   "source": [
    "# demonstrate prediction for next 10 days\n",
    "from numpy import array\n",
    "\n",
    "lst_output=[]\n",
    "n_steps=100\n",
    "i=0\n",
    "while(i<30):\n",
    "    \n",
    "    if(len(temp_input)>100):\n",
    "        #print(temp_input)\n",
    "        #shifting one postion ahead\n",
    "        x_input=np.array(temp_input[1:])\n",
    "        print(\"{} day input {}\".format(i,x_input))\n",
    "        x_input=x_input.reshape(1,-1)\n",
    "        x_input = x_input.reshape((1, n_steps, 1))\n",
    "        #print(x_input)\n",
    "        yhat = model.predict(x_input, verbose=0)\n",
    "        print(\"{} day output {}\".format(i,yhat))\n",
    "        temp_input.extend(yhat[0].tolist())\n",
    "        temp_input=temp_input[1:]\n",
    "        #print(temp_input)\n",
    "        lst_output.extend(yhat.tolist())\n",
    "        i=i+1\n",
    "    else:\n",
    "        #first cycle will start from here \n",
    "        x_input = x_input.reshape((1, n_steps,1))\n",
    "        yhat = model.predict(x_input, verbose=0)\n",
    "        print(yhat[0])\n",
    "        temp_input.extend(yhat[0].tolist())\n",
    "        print(len(temp_input))\n",
    "        lst_output.extend(yhat.tolist())\n",
    "        i=i+1\n",
    "    \n",
    "\n",
    "print(lst_output)"
   ]
  },
  {
   "cell_type": "code",
   "execution_count": 101,
   "metadata": {},
   "outputs": [],
   "source": [
    "#taking the previous 100 outputs\n",
    "day_new=np.arange(1,101)\n",
    "#taking the next 30 values as per predictions\n",
    "day_pred=np.arange(101,131)"
   ]
  },
  {
   "cell_type": "code",
   "execution_count": 102,
   "metadata": {},
   "outputs": [
    {
     "data": {
      "text/plain": [
       "3498"
      ]
     },
     "execution_count": 102,
     "metadata": {},
     "output_type": "execute_result"
    }
   ],
   "source": [
    "len(df1)"
   ]
  },
  {
   "cell_type": "code",
   "execution_count": 103,
   "metadata": {},
   "outputs": [
    {
     "data": {
      "text/plain": [
       "[<matplotlib.lines.Line2D at 0x1e94cdf2130>]"
      ]
     },
     "execution_count": 103,
     "metadata": {},
     "output_type": "execute_result"
    },
    {
     "data": {
      "image/png": "[encoded data removed]",
      "text/plain": [
       "<Figure size 640x480 with 1 Axes>"
      ]
     },
     "metadata": {},
     "output_type": "display_data"
    }
   ],
   "source": [
    "#Plotting for the previous values in the dataset\n",
    "plt.plot(day_new,scaler.inverse_transform(df1[len(df1)-100:]) , color=\"red\")\n",
    "#Plotting for the predicted values\n",
    "plt.plot(day_pred,scaler.inverse_transform(lst_output) , color=\"green\")"
   ]
  },
  {
   "cell_type": "code",
   "execution_count": 105,
   "metadata": {},
   "outputs": [
    {
     "data": {
      "text/plain": [
       "[<matplotlib.lines.Line2D at 0x1e94b9ee460>]"
      ]
     },
     "execution_count": 105,
     "metadata": {},
     "output_type": "execute_result"
    },
    {
     "data": {
      "image/png": "[encoded data removed]",
      "text/plain": [
       "<Figure size 640x480 with 1 Axes>"
      ]
     },
     "metadata": {},
     "output_type": "display_data"
    }
   ],
   "source": [
    "df3=df1.tolist()\n",
    "df3.extend(lst_output)\n",
    "plt.plot(df3[1000:] )"
   ]
  },
  {
   "cell_type": "code",
   "execution_count": 106,
   "metadata": {},
   "outputs": [
    {
     "data": {
      "text/plain": [
       "[<matplotlib.lines.Line2D at 0x1e94eee8bb0>]"
      ]
     },
     "execution_count": 106,
     "metadata": {},
     "output_type": "execute_result"
    },
    {
     "data": {
      "image/png": "[encoded data removed]",
      "text/plain": [
       "<Figure size 640x480 with 1 Axes>"
      ]
     },
     "metadata": {},
     "output_type": "display_data"
    }
   ],
   "source": [
    "df3=scaler.inverse_transform(df3).tolist()\n",
    "plt.plot(df3)"
   ]
  }
 ],
 "metadata": {
  "kernelspec": {
   "display_name": "Python 3",
   "language": "python",
   "name": "python3"
  },
  "language_info": {
   "codemirror_mode": {
    "name": "ipython",
    "version": 3
   },
   "file_extension": ".py",
   "mimetype": "text/x-python",
   "name": "python",
   "nbconvert_exporter": "python",
   "pygments_lexer": "ipython3",
   "version": "3.9.5"
  },
  "orig_nbformat": 4
 },
 "nbformat": 4,
 "nbformat_minor": 2
}
