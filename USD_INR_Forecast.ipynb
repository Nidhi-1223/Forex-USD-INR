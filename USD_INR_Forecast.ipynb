{
 "cells": [
  {
   "cell_type": "code",
   "execution_count": 1,
   "metadata": {},
   "outputs": [],
   "source": [
    "import math\n",
    "# import pandas_datareader as web\n",
    "import numpy as np\n",
    "import pandas as pd\n",
    "from sklearn.preprocessing import MinMaxScaler\n",
    "from tensorflow.keras.models import Sequential\n",
    "from tensorflow.keras.layers import Conv1D, Dense, LSTM\n",
    "import matplotlib.pyplot as plt\n",
    "import tensorflow as tf\n",
    "from tensorflow.data.experimental import AUTOTUNE as AUTO"
   ]
  },
  {
   "cell_type": "code",
   "execution_count": 3,
   "metadata": {},
   "outputs": [],
   "source": [
    "data_csv = pd.read_csv('data\\usd_inr.csv')"
   ]
  },
  {
   "cell_type": "code",
   "execution_count": 4,
   "metadata": {},
   "outputs": [],
   "source": [
    "data_csv.set_index(['Date'], inplace=True)"
   ]
  },
  {
   "cell_type": "code",
   "execution_count": 5,
   "metadata": {},
   "outputs": [
    {
     "data": {
      "text/html": [
       "<div>\n",
       "<style scoped>\n",
       "    .dataframe tbody tr th:only-of-type {\n",
       "        vertical-align: middle;\n",
       "    }\n",
       "\n",
       "    .dataframe tbody tr th {\n",
       "        vertical-align: top;\n",
       "    }\n",
       "\n",
       "    .dataframe thead th {\n",
       "        text-align: right;\n",
       "    }\n",
       "</style>\n",
       "<table border=\"1\" class=\"dataframe\">\n",
       "  <thead>\n",
       "    <tr style=\"text-align: right;\">\n",
       "      <th></th>\n",
       "      <th>Price</th>\n",
       "      <th>Open</th>\n",
       "      <th>High</th>\n",
       "      <th>Low</th>\n",
       "      <th>Volume</th>\n",
       "      <th>Chg%</th>\n",
       "    </tr>\n",
       "    <tr>\n",
       "      <th>Date</th>\n",
       "      <th></th>\n",
       "      <th></th>\n",
       "      <th></th>\n",
       "      <th></th>\n",
       "      <th></th>\n",
       "      <th></th>\n",
       "    </tr>\n",
       "  </thead>\n",
       "  <tbody>\n",
       "    <tr>\n",
       "      <th>30-05-2023</th>\n",
       "      <td>82.665</td>\n",
       "      <td>82.557</td>\n",
       "      <td>82.794</td>\n",
       "      <td>82.548</td>\n",
       "      <td>0</td>\n",
       "      <td>0.0010</td>\n",
       "    </tr>\n",
       "    <tr>\n",
       "      <th>29-05-2023</th>\n",
       "      <td>82.586</td>\n",
       "      <td>82.591</td>\n",
       "      <td>82.682</td>\n",
       "      <td>82.511</td>\n",
       "      <td>0</td>\n",
       "      <td>0.0002</td>\n",
       "    </tr>\n",
       "    <tr>\n",
       "      <th>26-05-2023</th>\n",
       "      <td>82.570</td>\n",
       "      <td>82.745</td>\n",
       "      <td>82.748</td>\n",
       "      <td>82.542</td>\n",
       "      <td>0</td>\n",
       "      <td>-0.0020</td>\n",
       "    </tr>\n",
       "    <tr>\n",
       "      <th>25-05-2023</th>\n",
       "      <td>82.733</td>\n",
       "      <td>82.680</td>\n",
       "      <td>82.821</td>\n",
       "      <td>82.666</td>\n",
       "      <td>0</td>\n",
       "      <td>0.0008</td>\n",
       "    </tr>\n",
       "    <tr>\n",
       "      <th>24-05-2023</th>\n",
       "      <td>82.670</td>\n",
       "      <td>82.880</td>\n",
       "      <td>82.897</td>\n",
       "      <td>82.570</td>\n",
       "      <td>0</td>\n",
       "      <td>-0.0019</td>\n",
       "    </tr>\n",
       "  </tbody>\n",
       "</table>\n",
       "</div>"
      ],
      "text/plain": [
       "             Price    Open    High     Low  Volume    Chg%\n",
       "Date                                                      \n",
       "30-05-2023  82.665  82.557  82.794  82.548       0  0.0010\n",
       "29-05-2023  82.586  82.591  82.682  82.511       0  0.0002\n",
       "26-05-2023  82.570  82.745  82.748  82.542       0 -0.0020\n",
       "25-05-2023  82.733  82.680  82.821  82.666       0  0.0008\n",
       "24-05-2023  82.670  82.880  82.897  82.570       0 -0.0019"
      ]
     },
     "execution_count": 5,
     "metadata": {},
     "output_type": "execute_result"
    }
   ],
   "source": [
    "data_csv.head()"
   ]
  },
  {
   "cell_type": "code",
   "execution_count": 6,
   "metadata": {},
   "outputs": [],
   "source": [
    "data_csv.drop(columns=['Volume'],axis=1,inplace=True)"
   ]
  },
  {
   "cell_type": "code",
   "execution_count": 44,
   "metadata": {},
   "outputs": [
    {
     "data": {
      "text/html": [
       "<div>\n",
       "<style scoped>\n",
       "    .dataframe tbody tr th:only-of-type {\n",
       "        vertical-align: middle;\n",
       "    }\n",
       "\n",
       "    .dataframe tbody tr th {\n",
       "        vertical-align: top;\n",
       "    }\n",
       "\n",
       "    .dataframe thead th {\n",
       "        text-align: right;\n",
       "    }\n",
       "</style>\n",
       "<table border=\"1\" class=\"dataframe\">\n",
       "  <thead>\n",
       "    <tr style=\"text-align: right;\">\n",
       "      <th></th>\n",
       "      <th>Price</th>\n",
       "      <th>Open</th>\n",
       "      <th>High</th>\n",
       "      <th>Low</th>\n",
       "      <th>Chg%</th>\n",
       "    </tr>\n",
       "    <tr>\n",
       "      <th>Date</th>\n",
       "      <th></th>\n",
       "      <th></th>\n",
       "      <th></th>\n",
       "      <th></th>\n",
       "      <th></th>\n",
       "    </tr>\n",
       "  </thead>\n",
       "  <tbody>\n",
       "    <tr>\n",
       "      <th>01-01-2010</th>\n",
       "      <td>46.615</td>\n",
       "      <td>46.610</td>\n",
       "      <td>46.677</td>\n",
       "      <td>46.590</td>\n",
       "      <td>0.0044</td>\n",
       "    </tr>\n",
       "    <tr>\n",
       "      <th>04-01-2010</th>\n",
       "      <td>46.295</td>\n",
       "      <td>46.545</td>\n",
       "      <td>46.655</td>\n",
       "      <td>46.245</td>\n",
       "      <td>-0.0069</td>\n",
       "    </tr>\n",
       "    <tr>\n",
       "      <th>05-01-2010</th>\n",
       "      <td>46.205</td>\n",
       "      <td>46.305</td>\n",
       "      <td>46.305</td>\n",
       "      <td>46.045</td>\n",
       "      <td>-0.0019</td>\n",
       "    </tr>\n",
       "    <tr>\n",
       "      <th>06-01-2010</th>\n",
       "      <td>45.695</td>\n",
       "      <td>46.165</td>\n",
       "      <td>46.205</td>\n",
       "      <td>45.695</td>\n",
       "      <td>-0.0110</td>\n",
       "    </tr>\n",
       "    <tr>\n",
       "      <th>07-01-2010</th>\n",
       "      <td>45.650</td>\n",
       "      <td>45.610</td>\n",
       "      <td>45.890</td>\n",
       "      <td>45.570</td>\n",
       "      <td>-0.0010</td>\n",
       "    </tr>\n",
       "    <tr>\n",
       "      <th>08-01-2010</th>\n",
       "      <td>45.470</td>\n",
       "      <td>45.680</td>\n",
       "      <td>45.900</td>\n",
       "      <td>45.470</td>\n",
       "      <td>-0.0039</td>\n",
       "    </tr>\n",
       "    <tr>\n",
       "      <th>11-01-2010</th>\n",
       "      <td>45.260</td>\n",
       "      <td>45.510</td>\n",
       "      <td>45.510</td>\n",
       "      <td>45.230</td>\n",
       "      <td>-0.0046</td>\n",
       "    </tr>\n",
       "    <tr>\n",
       "      <th>12-01-2010</th>\n",
       "      <td>45.660</td>\n",
       "      <td>45.140</td>\n",
       "      <td>45.750</td>\n",
       "      <td>45.100</td>\n",
       "      <td>0.0088</td>\n",
       "    </tr>\n",
       "    <tr>\n",
       "      <th>13-01-2010</th>\n",
       "      <td>45.495</td>\n",
       "      <td>45.735</td>\n",
       "      <td>45.775</td>\n",
       "      <td>45.415</td>\n",
       "      <td>-0.0036</td>\n",
       "    </tr>\n",
       "    <tr>\n",
       "      <th>14-01-2010</th>\n",
       "      <td>45.600</td>\n",
       "      <td>45.490</td>\n",
       "      <td>45.720</td>\n",
       "      <td>45.400</td>\n",
       "      <td>0.0023</td>\n",
       "    </tr>\n",
       "  </tbody>\n",
       "</table>\n",
       "</div>"
      ],
      "text/plain": [
       "             Price    Open    High     Low    Chg%\n",
       "Date                                              \n",
       "01-01-2010  46.615  46.610  46.677  46.590  0.0044\n",
       "04-01-2010  46.295  46.545  46.655  46.245 -0.0069\n",
       "05-01-2010  46.205  46.305  46.305  46.045 -0.0019\n",
       "06-01-2010  45.695  46.165  46.205  45.695 -0.0110\n",
       "07-01-2010  45.650  45.610  45.890  45.570 -0.0010\n",
       "08-01-2010  45.470  45.680  45.900  45.470 -0.0039\n",
       "11-01-2010  45.260  45.510  45.510  45.230 -0.0046\n",
       "12-01-2010  45.660  45.140  45.750  45.100  0.0088\n",
       "13-01-2010  45.495  45.735  45.775  45.415 -0.0036\n",
       "14-01-2010  45.600  45.490  45.720  45.400  0.0023"
      ]
     },
     "execution_count": 44,
     "metadata": {},
     "output_type": "execute_result"
    }
   ],
   "source": [
    "data_csv = data_csv.iloc[::-1]\n",
    "data_csv.head(10)"
   ]
  },
  {
   "cell_type": "code",
   "execution_count": 12,
   "metadata": {},
   "outputs": [
    {
     "data": {
      "image/png": "[encoded data removed]",
      "text/plain": [
       "<Figure size 2000x1000 with 1 Axes>"
      ]
     },
     "metadata": {},
     "output_type": "display_data"
    }
   ],
   "source": [
    "plt.figure(figsize=(20,10))\n",
    "plt.plot(data_csv['Price'])\n",
    "plt.xlabel('Date')\n",
    "plt.ylabel('Close price INR')\n",
    "plt.show()"
   ]
  },
  {
   "cell_type": "code",
   "execution_count": 8,
   "metadata": {},
   "outputs": [],
   "source": [
    "data_csv.to_csv('usd_inr_processed.csv')"
   ]
  },
  {
   "cell_type": "code",
   "execution_count": 9,
   "metadata": {},
   "outputs": [],
   "source": [
    "target = data_csv['Price']"
   ]
  },
  {
   "cell_type": "code",
   "execution_count": 10,
   "metadata": {},
   "outputs": [],
   "source": [
    "scaler = MinMaxScaler(feature_range=(0, 1))\n",
    "scaled_data = scaler.fit_transform(target.values.reshape(-1, 1))"
   ]
  },
  {
   "cell_type": "code",
   "execution_count": 11,
   "metadata": {},
   "outputs": [
    {
     "data": {
      "text/plain": [
       "array([[0.06881907],\n",
       "       [0.06063242],\n",
       "       [0.05832992],\n",
       "       ...,\n",
       "       [0.9886666 ],\n",
       "       [0.98907593],\n",
       "       [0.99109701]])"
      ]
     },
     "execution_count": 11,
     "metadata": {},
     "output_type": "execute_result"
    }
   ],
   "source": [
    "scaled_data"
   ]
  },
  {
   "cell_type": "code",
   "execution_count": 12,
   "metadata": {},
   "outputs": [],
   "source": [
    "sequence_length = 10  # Length of input sequences\n",
    "X, y = [], []\n",
    "for i in range(sequence_length, len(scaled_data)):\n",
    "    X.append(scaled_data[i-sequence_length:i, 0])\n",
    "    y.append(scaled_data[i, 0])\n",
    "X, y = np.array(X), np.array(y)"
   ]
  },
  {
   "cell_type": "code",
   "execution_count": 13,
   "metadata": {},
   "outputs": [
    {
     "data": {
      "text/plain": [
       "array([[0.06881907, 0.06063242, 0.05832992, ..., 0.04438702, 0.04016578,\n",
       "        0.04285203],\n",
       "       [0.06063242, 0.05832992, 0.04528244, ..., 0.04016578, 0.04285203,\n",
       "        0.04771285],\n",
       "       [0.05832992, 0.04528244, 0.04413119, ..., 0.04285203, 0.04771285,\n",
       "        0.04400327],\n",
       "       ...,\n",
       "       [0.97851003, 0.98014736, 0.98083811, ..., 0.99531826, 0.99122493,\n",
       "        0.99283668],\n",
       "       [0.98014736, 0.98083811, 0.98431744, ..., 0.99122493, 0.99283668,\n",
       "        0.9886666 ],\n",
       "       [0.98083811, 0.98431744, 0.99250409, ..., 0.99283668, 0.9886666 ,\n",
       "        0.98907593]])"
      ]
     },
     "execution_count": 13,
     "metadata": {},
     "output_type": "execute_result"
    }
   ],
   "source": [
    "X"
   ]
  },
  {
   "cell_type": "code",
   "execution_count": 14,
   "metadata": {},
   "outputs": [
    {
     "data": {
      "text/plain": [
       "array([0.04771285, 0.04400327, 0.04694535, ..., 0.9886666 , 0.98907593,\n",
       "       0.99109701])"
      ]
     },
     "execution_count": 14,
     "metadata": {},
     "output_type": "execute_result"
    }
   ],
   "source": [
    "y"
   ]
  },
  {
   "cell_type": "code",
   "execution_count": 15,
   "metadata": {},
   "outputs": [],
   "source": [
    "from sklearn.model_selection import train_test_split"
   ]
  },
  {
   "cell_type": "code",
   "execution_count": 16,
   "metadata": {},
   "outputs": [],
   "source": [
    "X_train, X_test, y_train, y_test = train_test_split(X, y, test_size=0.2, shuffle=False)\n",
    "\n",
    "# Reshape the input data for LSTM (samples, time steps, features)\n",
    "X_train = np.reshape(X_train, (X_train.shape[0], X_train.shape[1], 1))\n",
    "X_test = np.reshape(X_test, (X_test.shape[0], X_test.shape[1], 1))\n"
   ]
  },
  {
   "cell_type": "code",
   "execution_count": 21,
   "metadata": {},
   "outputs": [
    {
     "data": {
      "text/plain": [
       "((2790, 10, 1), (698, 10, 1))"
      ]
     },
     "execution_count": 21,
     "metadata": {},
     "output_type": "execute_result"
    }
   ],
   "source": [
    "X_train.shape, X_test.shape"
   ]
  },
  {
   "cell_type": "code",
   "execution_count": 22,
   "metadata": {},
   "outputs": [],
   "source": [
    "model = Sequential()\n",
    "model.add(LSTM(50, return_sequences=True, input_shape=(sequence_length, 1)))\n",
    "model.add(LSTM(50))\n",
    "model.add(Dense(1))\n",
    "model.compile(optimizer='adam', loss='mean_squared_error')"
   ]
  },
  {
   "cell_type": "code",
   "execution_count": 23,
   "metadata": {},
   "outputs": [
    {
     "name": "stdout",
     "output_type": "stream",
     "text": [
      "Epoch 1/50\n",
      "88/88 [==============================] - 6s 9ms/step - loss: 0.0116\n",
      "Epoch 2/50\n",
      "88/88 [==============================] - 1s 9ms/step - loss: 2.1943e-04\n",
      "Epoch 3/50\n",
      "88/88 [==============================] - 1s 10ms/step - loss: 2.1542e-04\n",
      "Epoch 4/50\n",
      "88/88 [==============================] - 1s 10ms/step - loss: 2.0746e-04\n",
      "Epoch 5/50\n",
      "88/88 [==============================] - 1s 10ms/step - loss: 2.1111e-04\n",
      "Epoch 6/50\n",
      "88/88 [==============================] - 1s 10ms/step - loss: 2.0740e-04\n",
      "Epoch 7/50\n",
      "88/88 [==============================] - 1s 9ms/step - loss: 2.1842e-04\n",
      "Epoch 8/50\n",
      "88/88 [==============================] - 1s 10ms/step - loss: 2.1270e-04\n",
      "Epoch 9/50\n",
      "88/88 [==============================] - 1s 10ms/step - loss: 2.0911e-04\n",
      "Epoch 10/50\n",
      "88/88 [==============================] - 1s 9ms/step - loss: 2.0943e-04\n",
      "Epoch 11/50\n",
      "88/88 [==============================] - 1s 10ms/step - loss: 2.0795e-04\n",
      "Epoch 12/50\n",
      "88/88 [==============================] - 1s 10ms/step - loss: 1.9750e-04\n",
      "Epoch 13/50\n",
      "88/88 [==============================] - 1s 10ms/step - loss: 2.3143e-04\n",
      "Epoch 14/50\n",
      "88/88 [==============================] - 1s 10ms/step - loss: 1.9543e-04\n",
      "Epoch 15/50\n",
      "88/88 [==============================] - 1s 10ms/step - loss: 2.0093e-04\n",
      "Epoch 16/50\n",
      "88/88 [==============================] - 1s 10ms/step - loss: 1.9309e-04\n",
      "Epoch 17/50\n",
      "88/88 [==============================] - 1s 10ms/step - loss: 1.9305e-04\n",
      "Epoch 18/50\n",
      "88/88 [==============================] - 1s 11ms/step - loss: 1.9466e-04\n",
      "Epoch 19/50\n",
      "88/88 [==============================] - 1s 10ms/step - loss: 2.1368e-04\n",
      "Epoch 20/50\n",
      "88/88 [==============================] - 1s 10ms/step - loss: 1.8226e-04\n",
      "Epoch 21/50\n",
      "88/88 [==============================] - 1s 10ms/step - loss: 1.8343e-04\n",
      "Epoch 22/50\n",
      "88/88 [==============================] - 1s 10ms/step - loss: 1.9162e-04\n",
      "Epoch 23/50\n",
      "88/88 [==============================] - 1s 10ms/step - loss: 1.8450e-04\n",
      "Epoch 24/50\n",
      "88/88 [==============================] - 1s 10ms/step - loss: 1.6839e-04\n",
      "Epoch 25/50\n",
      "88/88 [==============================] - 1s 10ms/step - loss: 1.8110e-04\n",
      "Epoch 26/50\n",
      "88/88 [==============================] - 1s 10ms/step - loss: 1.7697e-04\n",
      "Epoch 27/50\n",
      "88/88 [==============================] - 1s 10ms/step - loss: 1.8906e-04\n",
      "Epoch 28/50\n",
      "88/88 [==============================] - 1s 10ms/step - loss: 1.7131e-04\n",
      "Epoch 29/50\n",
      "88/88 [==============================] - 1s 10ms/step - loss: 1.4752e-04\n",
      "Epoch 30/50\n",
      "88/88 [==============================] - 1s 9ms/step - loss: 1.5389e-04\n",
      "Epoch 31/50\n",
      "88/88 [==============================] - 1s 10ms/step - loss: 1.5031e-04\n",
      "Epoch 32/50\n",
      "88/88 [==============================] - 1s 10ms/step - loss: 1.7462e-04\n",
      "Epoch 33/50\n",
      "88/88 [==============================] - 1s 10ms/step - loss: 1.4834e-04\n",
      "Epoch 34/50\n",
      "88/88 [==============================] - 1s 10ms/step - loss: 1.2850e-04\n",
      "Epoch 35/50\n",
      "88/88 [==============================] - 1s 10ms/step - loss: 1.3183e-04\n",
      "Epoch 36/50\n",
      "88/88 [==============================] - 1s 10ms/step - loss: 1.3224e-04\n",
      "Epoch 37/50\n",
      "88/88 [==============================] - 1s 10ms/step - loss: 1.3614e-04\n",
      "Epoch 38/50\n",
      "88/88 [==============================] - 1s 10ms/step - loss: 1.1984e-04\n",
      "Epoch 39/50\n",
      "88/88 [==============================] - 1s 10ms/step - loss: 1.4967e-04\n",
      "Epoch 40/50\n",
      "88/88 [==============================] - 1s 10ms/step - loss: 1.1532e-04\n",
      "Epoch 41/50\n",
      "88/88 [==============================] - 1s 10ms/step - loss: 1.0849e-04\n",
      "Epoch 42/50\n",
      "88/88 [==============================] - 1s 10ms/step - loss: 1.6058e-04\n",
      "Epoch 43/50\n",
      "88/88 [==============================] - 1s 10ms/step - loss: 1.2410e-04\n",
      "Epoch 44/50\n",
      "88/88 [==============================] - 1s 10ms/step - loss: 1.2555e-04\n",
      "Epoch 45/50\n",
      "88/88 [==============================] - 1s 10ms/step - loss: 1.2754e-04\n",
      "Epoch 46/50\n",
      "88/88 [==============================] - 1s 10ms/step - loss: 1.0241e-04\n",
      "Epoch 47/50\n",
      "88/88 [==============================] - 1s 10ms/step - loss: 1.4332e-04\n",
      "Epoch 48/50\n",
      "88/88 [==============================] - 1s 10ms/step - loss: 1.0078e-04\n",
      "Epoch 49/50\n",
      "88/88 [==============================] - 1s 10ms/step - loss: 1.0927e-04\n",
      "Epoch 50/50\n",
      "88/88 [==============================] - 1s 10ms/step - loss: 1.1693e-04\n"
     ]
    },
    {
     "data": {
      "text/plain": [
       "<keras.callbacks.History at 0x281c4214a00>"
      ]
     },
     "execution_count": 23,
     "metadata": {},
     "output_type": "execute_result"
    }
   ],
   "source": [
    "model.fit(X_train, y_train, epochs=50, batch_size=32)"
   ]
  },
  {
   "cell_type": "code",
   "execution_count": 17,
   "metadata": {},
   "outputs": [
    {
     "name": "stdout",
     "output_type": "stream",
     "text": [
      "88/88 [==============================] - 2s 4ms/step\n",
      "22/22 [==============================] - 0s 4ms/step\n"
     ]
    }
   ],
   "source": [
    "train_predictions = model.predict(X_train)\n",
    "test_predictions = model.predict(X_test)"
   ]
  },
  {
   "cell_type": "code",
   "execution_count": 18,
   "metadata": {},
   "outputs": [],
   "source": [
    "train_predictions = scaler.inverse_transform(train_predictions)\n",
    "y_train = scaler.inverse_transform([y_train])\n",
    "test_predictions = scaler.inverse_transform(test_predictions)\n",
    "y_test = scaler.inverse_transform([y_test])"
   ]
  },
  {
   "cell_type": "code",
   "execution_count": 19,
   "metadata": {},
   "outputs": [
    {
     "name": "stdout",
     "output_type": "stream",
     "text": [
      "Train RMSE: 12.761907428160972\n",
      "Test RMSE: 5.0214599677736755\n"
     ]
    }
   ],
   "source": [
    "train_rmse = np.sqrt(np.mean((train_predictions - y_train) ** 2))\n",
    "test_rmse = np.sqrt(np.mean((test_predictions - y_test) ** 2))\n",
    "print(f\"Train RMSE: {train_rmse}\")\n",
    "print(f\"Test RMSE: {test_rmse}\")"
   ]
  },
  {
   "cell_type": "code",
   "execution_count": 26,
   "metadata": {},
   "outputs": [
    {
     "data": {
      "text/html": [
       "<div>\n",
       "<style scoped>\n",
       "    .dataframe tbody tr th:only-of-type {\n",
       "        vertical-align: middle;\n",
       "    }\n",
       "\n",
       "    .dataframe tbody tr th {\n",
       "        vertical-align: top;\n",
       "    }\n",
       "\n",
       "    .dataframe thead th {\n",
       "        text-align: right;\n",
       "    }\n",
       "</style>\n",
       "<table border=\"1\" class=\"dataframe\">\n",
       "  <thead>\n",
       "    <tr style=\"text-align: right;\">\n",
       "      <th></th>\n",
       "      <th>Date</th>\n",
       "      <th>Predicted</th>\n",
       "    </tr>\n",
       "  </thead>\n",
       "  <tbody>\n",
       "    <tr>\n",
       "      <th>0</th>\n",
       "      <td>15-01-2010</td>\n",
       "      <td>45.423172</td>\n",
       "    </tr>\n",
       "    <tr>\n",
       "      <th>1</th>\n",
       "      <td>18-01-2010</td>\n",
       "      <td>45.482662</td>\n",
       "    </tr>\n",
       "    <tr>\n",
       "      <th>2</th>\n",
       "      <td>19-01-2010</td>\n",
       "      <td>45.530701</td>\n",
       "    </tr>\n",
       "    <tr>\n",
       "      <th>3</th>\n",
       "      <td>20-01-2010</td>\n",
       "      <td>45.587795</td>\n",
       "    </tr>\n",
       "    <tr>\n",
       "      <th>4</th>\n",
       "      <td>21-01-2010</td>\n",
       "      <td>45.648777</td>\n",
       "    </tr>\n",
       "    <tr>\n",
       "      <th>...</th>\n",
       "      <td>...</td>\n",
       "      <td>...</td>\n",
       "    </tr>\n",
       "    <tr>\n",
       "      <th>3483</th>\n",
       "      <td>24-05-2023</td>\n",
       "      <td>82.339409</td>\n",
       "    </tr>\n",
       "    <tr>\n",
       "      <th>3484</th>\n",
       "      <td>25-05-2023</td>\n",
       "      <td>82.310898</td>\n",
       "    </tr>\n",
       "    <tr>\n",
       "      <th>3485</th>\n",
       "      <td>26-05-2023</td>\n",
       "      <td>82.282951</td>\n",
       "    </tr>\n",
       "    <tr>\n",
       "      <th>3486</th>\n",
       "      <td>29-05-2023</td>\n",
       "      <td>82.205612</td>\n",
       "    </tr>\n",
       "    <tr>\n",
       "      <th>3487</th>\n",
       "      <td>30-05-2023</td>\n",
       "      <td>82.140648</td>\n",
       "    </tr>\n",
       "  </tbody>\n",
       "</table>\n",
       "<p>3488 rows × 2 columns</p>\n",
       "</div>"
      ],
      "text/plain": [
       "            Date  Predicted\n",
       "0     15-01-2010  45.423172\n",
       "1     18-01-2010  45.482662\n",
       "2     19-01-2010  45.530701\n",
       "3     20-01-2010  45.587795\n",
       "4     21-01-2010  45.648777\n",
       "...          ...        ...\n",
       "3483  24-05-2023  82.339409\n",
       "3484  25-05-2023  82.310898\n",
       "3485  26-05-2023  82.282951\n",
       "3486  29-05-2023  82.205612\n",
       "3487  30-05-2023  82.140648\n",
       "\n",
       "[3488 rows x 2 columns]"
      ]
     },
     "execution_count": 26,
     "metadata": {},
     "output_type": "execute_result"
    }
   ],
   "source": [
    "predicted_df = pd.DataFrame({\n",
    "    'Date': data_csv.index[sequence_length:sequence_length + len(train_predictions) + len(test_predictions)],\n",
    "    'Predicted': np.concatenate([train_predictions.flatten(), test_predictions.flatten()])\n",
    "})\n",
    "predicted_df"
   ]
  },
  {
   "cell_type": "code",
   "execution_count": 27,
   "metadata": {},
   "outputs": [],
   "source": [
    "# Create a new DataFrame with date and predicted values\n",
    "test_predicted_df = pd.DataFrame({\n",
    "    'Date': data_csv.index[sequence_length + len(train_predictions):sequence_length + len(train_predictions) + len(test_predictions)],\n",
    "    'Predicted': test_predictions.flatten()\n",
    "})\n"
   ]
  },
  {
   "cell_type": "code",
   "execution_count": 28,
   "metadata": {},
   "outputs": [
    {
     "data": {
      "text/html": [
       "<div>\n",
       "<style scoped>\n",
       "    .dataframe tbody tr th:only-of-type {\n",
       "        vertical-align: middle;\n",
       "    }\n",
       "\n",
       "    .dataframe tbody tr th {\n",
       "        vertical-align: top;\n",
       "    }\n",
       "\n",
       "    .dataframe thead th {\n",
       "        text-align: right;\n",
       "    }\n",
       "</style>\n",
       "<table border=\"1\" class=\"dataframe\">\n",
       "  <thead>\n",
       "    <tr style=\"text-align: right;\">\n",
       "      <th></th>\n",
       "      <th>Date</th>\n",
       "      <th>Predicted</th>\n",
       "    </tr>\n",
       "  </thead>\n",
       "  <tbody>\n",
       "    <tr>\n",
       "      <th>0</th>\n",
       "      <td>25-09-2020</td>\n",
       "      <td>73.259804</td>\n",
       "    </tr>\n",
       "    <tr>\n",
       "      <th>1</th>\n",
       "      <td>28-09-2020</td>\n",
       "      <td>73.295692</td>\n",
       "    </tr>\n",
       "    <tr>\n",
       "      <th>2</th>\n",
       "      <td>29-09-2020</td>\n",
       "      <td>73.325745</td>\n",
       "    </tr>\n",
       "    <tr>\n",
       "      <th>3</th>\n",
       "      <td>30-09-2020</td>\n",
       "      <td>73.347618</td>\n",
       "    </tr>\n",
       "    <tr>\n",
       "      <th>4</th>\n",
       "      <td>01-10-2020</td>\n",
       "      <td>73.299683</td>\n",
       "    </tr>\n",
       "    <tr>\n",
       "      <th>...</th>\n",
       "      <td>...</td>\n",
       "      <td>...</td>\n",
       "    </tr>\n",
       "    <tr>\n",
       "      <th>693</th>\n",
       "      <td>24-05-2023</td>\n",
       "      <td>82.339409</td>\n",
       "    </tr>\n",
       "    <tr>\n",
       "      <th>694</th>\n",
       "      <td>25-05-2023</td>\n",
       "      <td>82.310898</td>\n",
       "    </tr>\n",
       "    <tr>\n",
       "      <th>695</th>\n",
       "      <td>26-05-2023</td>\n",
       "      <td>82.282951</td>\n",
       "    </tr>\n",
       "    <tr>\n",
       "      <th>696</th>\n",
       "      <td>29-05-2023</td>\n",
       "      <td>82.205612</td>\n",
       "    </tr>\n",
       "    <tr>\n",
       "      <th>697</th>\n",
       "      <td>30-05-2023</td>\n",
       "      <td>82.140648</td>\n",
       "    </tr>\n",
       "  </tbody>\n",
       "</table>\n",
       "<p>698 rows × 2 columns</p>\n",
       "</div>"
      ],
      "text/plain": [
       "           Date  Predicted\n",
       "0    25-09-2020  73.259804\n",
       "1    28-09-2020  73.295692\n",
       "2    29-09-2020  73.325745\n",
       "3    30-09-2020  73.347618\n",
       "4    01-10-2020  73.299683\n",
       "..          ...        ...\n",
       "693  24-05-2023  82.339409\n",
       "694  25-05-2023  82.310898\n",
       "695  26-05-2023  82.282951\n",
       "696  29-05-2023  82.205612\n",
       "697  30-05-2023  82.140648\n",
       "\n",
       "[698 rows x 2 columns]"
      ]
     },
     "execution_count": 28,
     "metadata": {},
     "output_type": "execute_result"
    }
   ],
   "source": [
    "test_predicted_df"
   ]
  },
  {
   "cell_type": "code",
   "execution_count": 33,
   "metadata": {},
   "outputs": [],
   "source": [
    "test_predicted_df.to_csv('test_predicted_df.csv')"
   ]
  },
  {
   "cell_type": "code",
   "execution_count": 30,
   "metadata": {},
   "outputs": [],
   "source": [
    "test_predicted_df_with_actual = pd.DataFrame({\n",
    "    'Date': data_csv.index[sequence_length + len(train_predictions):sequence_length + len(train_predictions) + len(test_predictions)],\n",
    "    'Predicted': test_predictions.flatten(),\n",
    "    'Actual': y_test.flatten()\n",
    "})"
   ]
  },
  {
   "cell_type": "code",
   "execution_count": 31,
   "metadata": {},
   "outputs": [
    {
     "data": {
      "text/html": [
       "<div>\n",
       "<style scoped>\n",
       "    .dataframe tbody tr th:only-of-type {\n",
       "        vertical-align: middle;\n",
       "    }\n",
       "\n",
       "    .dataframe tbody tr th {\n",
       "        vertical-align: top;\n",
       "    }\n",
       "\n",
       "    .dataframe thead th {\n",
       "        text-align: right;\n",
       "    }\n",
       "</style>\n",
       "<table border=\"1\" class=\"dataframe\">\n",
       "  <thead>\n",
       "    <tr style=\"text-align: right;\">\n",
       "      <th></th>\n",
       "      <th>Date</th>\n",
       "      <th>Predicted</th>\n",
       "      <th>Actual</th>\n",
       "    </tr>\n",
       "  </thead>\n",
       "  <tbody>\n",
       "    <tr>\n",
       "      <th>0</th>\n",
       "      <td>25-09-2020</td>\n",
       "      <td>73.259804</td>\n",
       "      <td>73.670</td>\n",
       "    </tr>\n",
       "    <tr>\n",
       "      <th>1</th>\n",
       "      <td>28-09-2020</td>\n",
       "      <td>73.295692</td>\n",
       "      <td>73.750</td>\n",
       "    </tr>\n",
       "    <tr>\n",
       "      <th>2</th>\n",
       "      <td>29-09-2020</td>\n",
       "      <td>73.325745</td>\n",
       "      <td>73.750</td>\n",
       "    </tr>\n",
       "    <tr>\n",
       "      <th>3</th>\n",
       "      <td>30-09-2020</td>\n",
       "      <td>73.347618</td>\n",
       "      <td>73.560</td>\n",
       "    </tr>\n",
       "    <tr>\n",
       "      <th>4</th>\n",
       "      <td>01-10-2020</td>\n",
       "      <td>73.299683</td>\n",
       "      <td>73.193</td>\n",
       "    </tr>\n",
       "    <tr>\n",
       "      <th>...</th>\n",
       "      <td>...</td>\n",
       "      <td>...</td>\n",
       "      <td>...</td>\n",
       "    </tr>\n",
       "    <tr>\n",
       "      <th>693</th>\n",
       "      <td>24-05-2023</td>\n",
       "      <td>82.339409</td>\n",
       "      <td>82.670</td>\n",
       "    </tr>\n",
       "    <tr>\n",
       "      <th>694</th>\n",
       "      <td>25-05-2023</td>\n",
       "      <td>82.310898</td>\n",
       "      <td>82.733</td>\n",
       "    </tr>\n",
       "    <tr>\n",
       "      <th>695</th>\n",
       "      <td>26-05-2023</td>\n",
       "      <td>82.282951</td>\n",
       "      <td>82.570</td>\n",
       "    </tr>\n",
       "    <tr>\n",
       "      <th>696</th>\n",
       "      <td>29-05-2023</td>\n",
       "      <td>82.205612</td>\n",
       "      <td>82.586</td>\n",
       "    </tr>\n",
       "    <tr>\n",
       "      <th>697</th>\n",
       "      <td>30-05-2023</td>\n",
       "      <td>82.140648</td>\n",
       "      <td>82.665</td>\n",
       "    </tr>\n",
       "  </tbody>\n",
       "</table>\n",
       "<p>698 rows × 3 columns</p>\n",
       "</div>"
      ],
      "text/plain": [
       "           Date  Predicted  Actual\n",
       "0    25-09-2020  73.259804  73.670\n",
       "1    28-09-2020  73.295692  73.750\n",
       "2    29-09-2020  73.325745  73.750\n",
       "3    30-09-2020  73.347618  73.560\n",
       "4    01-10-2020  73.299683  73.193\n",
       "..          ...        ...     ...\n",
       "693  24-05-2023  82.339409  82.670\n",
       "694  25-05-2023  82.310898  82.733\n",
       "695  26-05-2023  82.282951  82.570\n",
       "696  29-05-2023  82.205612  82.586\n",
       "697  30-05-2023  82.140648  82.665\n",
       "\n",
       "[698 rows x 3 columns]"
      ]
     },
     "execution_count": 31,
     "metadata": {},
     "output_type": "execute_result"
    }
   ],
   "source": [
    "test_predicted_df_with_actual"
   ]
  },
  {
   "cell_type": "code",
   "execution_count": 35,
   "metadata": {},
   "outputs": [
    {
     "ename": "KeyError",
     "evalue": "'Actual'",
     "output_type": "error",
     "traceback": [
      "\u001b[1;31m---------------------------------------------------------------------------\u001b[0m",
      "\u001b[1;31mKeyError\u001b[0m                                  Traceback (most recent call last)",
      "File \u001b[1;32mc:\\python39\\lib\\site-packages\\pandas\\core\\indexes\\base.py:3803\u001b[0m, in \u001b[0;36mIndex.get_loc\u001b[1;34m(self, key, method, tolerance)\u001b[0m\n\u001b[0;32m   3802\u001b[0m \u001b[39mtry\u001b[39;00m:\n\u001b[1;32m-> 3803\u001b[0m     \u001b[39mreturn\u001b[39;00m \u001b[39mself\u001b[39;49m\u001b[39m.\u001b[39;49m_engine\u001b[39m.\u001b[39;49mget_loc(casted_key)\n\u001b[0;32m   3804\u001b[0m \u001b[39mexcept\u001b[39;00m \u001b[39mKeyError\u001b[39;00m \u001b[39mas\u001b[39;00m err:\n",
      "File \u001b[1;32mc:\\python39\\lib\\site-packages\\pandas\\_libs\\index.pyx:138\u001b[0m, in \u001b[0;36mpandas._libs.index.IndexEngine.get_loc\u001b[1;34m()\u001b[0m\n",
      "File \u001b[1;32mc:\\python39\\lib\\site-packages\\pandas\\_libs\\index.pyx:165\u001b[0m, in \u001b[0;36mpandas._libs.index.IndexEngine.get_loc\u001b[1;34m()\u001b[0m\n",
      "File \u001b[1;32mpandas\\_libs\\hashtable_class_helper.pxi:5745\u001b[0m, in \u001b[0;36mpandas._libs.hashtable.PyObjectHashTable.get_item\u001b[1;34m()\u001b[0m\n",
      "File \u001b[1;32mpandas\\_libs\\hashtable_class_helper.pxi:5753\u001b[0m, in \u001b[0;36mpandas._libs.hashtable.PyObjectHashTable.get_item\u001b[1;34m()\u001b[0m\n",
      "\u001b[1;31mKeyError\u001b[0m: 'Actual'",
      "\nThe above exception was the direct cause of the following exception:\n",
      "\u001b[1;31mKeyError\u001b[0m                                  Traceback (most recent call last)",
      "Cell \u001b[1;32mIn[35], line 2\u001b[0m\n\u001b[0;32m      1\u001b[0m plt\u001b[39m.\u001b[39mplot(predicted_df[\u001b[39m'\u001b[39m\u001b[39mDate\u001b[39m\u001b[39m'\u001b[39m], predicted_df[\u001b[39m'\u001b[39m\u001b[39mPredicted\u001b[39m\u001b[39m'\u001b[39m], label\u001b[39m=\u001b[39m\u001b[39m'\u001b[39m\u001b[39mPredicted\u001b[39m\u001b[39m'\u001b[39m)\n\u001b[1;32m----> 2\u001b[0m plt\u001b[39m.\u001b[39mplot(predicted_df[\u001b[39m'\u001b[39m\u001b[39mDate\u001b[39m\u001b[39m'\u001b[39m], predicted_df[\u001b[39m'\u001b[39;49m\u001b[39mActual\u001b[39;49m\u001b[39m'\u001b[39;49m], label\u001b[39m=\u001b[39m\u001b[39m'\u001b[39m\u001b[39mActual\u001b[39m\u001b[39m'\u001b[39m)\n\u001b[0;32m      3\u001b[0m plt\u001b[39m.\u001b[39mxlabel(\u001b[39m'\u001b[39m\u001b[39mDate\u001b[39m\u001b[39m'\u001b[39m)\n\u001b[0;32m      4\u001b[0m plt\u001b[39m.\u001b[39mylabel(\u001b[39m'\u001b[39m\u001b[39mValue\u001b[39m\u001b[39m'\u001b[39m)\n",
      "File \u001b[1;32mc:\\python39\\lib\\site-packages\\pandas\\core\\frame.py:3805\u001b[0m, in \u001b[0;36mDataFrame.__getitem__\u001b[1;34m(self, key)\u001b[0m\n\u001b[0;32m   3803\u001b[0m \u001b[39mif\u001b[39;00m \u001b[39mself\u001b[39m\u001b[39m.\u001b[39mcolumns\u001b[39m.\u001b[39mnlevels \u001b[39m>\u001b[39m \u001b[39m1\u001b[39m:\n\u001b[0;32m   3804\u001b[0m     \u001b[39mreturn\u001b[39;00m \u001b[39mself\u001b[39m\u001b[39m.\u001b[39m_getitem_multilevel(key)\n\u001b[1;32m-> 3805\u001b[0m indexer \u001b[39m=\u001b[39m \u001b[39mself\u001b[39;49m\u001b[39m.\u001b[39;49mcolumns\u001b[39m.\u001b[39;49mget_loc(key)\n\u001b[0;32m   3806\u001b[0m \u001b[39mif\u001b[39;00m is_integer(indexer):\n\u001b[0;32m   3807\u001b[0m     indexer \u001b[39m=\u001b[39m [indexer]\n",
      "File \u001b[1;32mc:\\python39\\lib\\site-packages\\pandas\\core\\indexes\\base.py:3805\u001b[0m, in \u001b[0;36mIndex.get_loc\u001b[1;34m(self, key, method, tolerance)\u001b[0m\n\u001b[0;32m   3803\u001b[0m     \u001b[39mreturn\u001b[39;00m \u001b[39mself\u001b[39m\u001b[39m.\u001b[39m_engine\u001b[39m.\u001b[39mget_loc(casted_key)\n\u001b[0;32m   3804\u001b[0m \u001b[39mexcept\u001b[39;00m \u001b[39mKeyError\u001b[39;00m \u001b[39mas\u001b[39;00m err:\n\u001b[1;32m-> 3805\u001b[0m     \u001b[39mraise\u001b[39;00m \u001b[39mKeyError\u001b[39;00m(key) \u001b[39mfrom\u001b[39;00m \u001b[39merr\u001b[39;00m\n\u001b[0;32m   3806\u001b[0m \u001b[39mexcept\u001b[39;00m \u001b[39mTypeError\u001b[39;00m:\n\u001b[0;32m   3807\u001b[0m     \u001b[39m# If we have a listlike key, _check_indexing_error will raise\u001b[39;00m\n\u001b[0;32m   3808\u001b[0m     \u001b[39m#  InvalidIndexError. Otherwise we fall through and re-raise\u001b[39;00m\n\u001b[0;32m   3809\u001b[0m     \u001b[39m#  the TypeError.\u001b[39;00m\n\u001b[0;32m   3810\u001b[0m     \u001b[39mself\u001b[39m\u001b[39m.\u001b[39m_check_indexing_error(key)\n",
      "\u001b[1;31mKeyError\u001b[0m: 'Actual'"
     ]
    },
    {
     "data": {
      "image/png": "[encoded data removed]",
      "text/plain": [
       "<Figure size 640x480 with 1 Axes>"
      ]
     },
     "metadata": {},
     "output_type": "display_data"
    }
   ],
   "source": [
    "plt.plot(predicted_df['Date'], predicted_df['Predicted'], label='Predicted')\n",
    "plt.plot(predicted_df['Date'], predicted_df['Actual'], label='Actual')\n",
    "plt.xlabel('Date')\n",
    "plt.ylabel('Value')\n",
    "plt.title('Test Predictions vs Actual Values')\n",
    "plt.legend()\n",
    "plt.show()\n"
   ]
  },
  {
   "cell_type": "code",
   "execution_count": 32,
   "metadata": {},
   "outputs": [],
   "source": [
    "test_predicted_df_with_actual.to_csv('test_predicted_df_with_actual.csv')"
   ]
  },
  {
   "cell_type": "code",
   "execution_count": 38,
   "metadata": {},
   "outputs": [],
   "source": [
    "# Create a new DataFrame with date, predicted values, and actual values for training and testing data\n",
    "all_predicted_with_actual_df = pd.DataFrame({\n",
    "    'Date': np.concatenate((data_csv.index[sequence_length:sequence_length + len(train_predictions)], data_csv.index[sequence_length + len(train_predictions):sequence_length + len(train_predictions) + len(test_predictions)])),\n",
    "    'Predicted': np.concatenate((train_predictions.flatten(), test_predictions.flatten())),\n",
    "    'Actual': np.concatenate((y_train.flatten(), y_test.flatten()))\n",
    "})\n"
   ]
  },
  {
   "cell_type": "code",
   "execution_count": 40,
   "metadata": {},
   "outputs": [
    {
     "data": {
      "text/plain": [
       "3488"
      ]
     },
     "execution_count": 40,
     "metadata": {},
     "output_type": "execute_result"
    }
   ],
   "source": [
    "len(all_predicted_with_actual_df)"
   ]
  },
  {
   "cell_type": "code",
   "execution_count": 41,
   "metadata": {},
   "outputs": [
    {
     "data": {
      "text/plain": [
       "3498"
      ]
     },
     "execution_count": 41,
     "metadata": {},
     "output_type": "execute_result"
    }
   ],
   "source": [
    "len(data_csv)"
   ]
  },
  {
   "cell_type": "code",
   "execution_count": 42,
   "metadata": {},
   "outputs": [],
   "source": [
    "all_predicted_with_actual_df.to_csv('all_predicted_with_actual_df.csv')"
   ]
  },
  {
   "cell_type": "code",
   "execution_count": 30,
   "metadata": {},
   "outputs": [
    {
     "ename": "ValueError",
     "evalue": "The truth value of a Series is ambiguous. Use a.empty, a.bool(), a.item(), a.any() or a.all().",
     "output_type": "error",
     "traceback": [
      "\u001b[1;31m---------------------------------------------------------------------------\u001b[0m",
      "\u001b[1;31mValueError\u001b[0m                                Traceback (most recent call last)",
      "Cell \u001b[1;32mIn[30], line 6\u001b[0m\n\u001b[0;32m      4\u001b[0m plt\u001b[39m.\u001b[39mplot(data_csv\u001b[39m.\u001b[39mindex[sequence_length\u001b[39m+\u001b[39m\u001b[39mlen\u001b[39m(train_predictions):sequence_length\u001b[39m+\u001b[39m\u001b[39mlen\u001b[39m(train_predictions)\u001b[39m+\u001b[39m\u001b[39mlen\u001b[39m(test_predictions)], test_predictions\u001b[39m.\u001b[39mflatten(), label\u001b[39m=\u001b[39m\u001b[39m'\u001b[39m\u001b[39mPredicted Test\u001b[39m\u001b[39m'\u001b[39m)\n\u001b[0;32m      5\u001b[0m plt\u001b[39m.\u001b[39mxlabel(\u001b[39m'\u001b[39m\u001b[39mDate\u001b[39m\u001b[39m'\u001b[39m)\n\u001b[1;32m----> 6\u001b[0m plt\u001b[39m.\u001b[39;49mylabel(target)\n\u001b[0;32m      7\u001b[0m plt\u001b[39m.\u001b[39mtitle(\u001b[39m'\u001b[39m\u001b[39mLSTM Forex Forecast\u001b[39m\u001b[39m'\u001b[39m)\n\u001b[0;32m      8\u001b[0m plt\u001b[39m.\u001b[39mlegend()\n",
      "File \u001b[1;32mc:\\python39\\lib\\site-packages\\matplotlib\\pyplot.py:3035\u001b[0m, in \u001b[0;36mylabel\u001b[1;34m(ylabel, fontdict, labelpad, loc, **kwargs)\u001b[0m\n\u001b[0;32m   3033\u001b[0m \u001b[39m@_copy_docstring_and_deprecators\u001b[39m(Axes\u001b[39m.\u001b[39mset_ylabel)\n\u001b[0;32m   3034\u001b[0m \u001b[39mdef\u001b[39;00m \u001b[39mylabel\u001b[39m(ylabel, fontdict\u001b[39m=\u001b[39m\u001b[39mNone\u001b[39;00m, labelpad\u001b[39m=\u001b[39m\u001b[39mNone\u001b[39;00m, \u001b[39m*\u001b[39m, loc\u001b[39m=\u001b[39m\u001b[39mNone\u001b[39;00m, \u001b[39m*\u001b[39m\u001b[39m*\u001b[39mkwargs):\n\u001b[1;32m-> 3035\u001b[0m     \u001b[39mreturn\u001b[39;00m gca()\u001b[39m.\u001b[39mset_ylabel(\n\u001b[0;32m   3036\u001b[0m         ylabel, fontdict\u001b[39m=\u001b[39mfontdict, labelpad\u001b[39m=\u001b[39mlabelpad, loc\u001b[39m=\u001b[39mloc,\n\u001b[0;32m   3037\u001b[0m         \u001b[39m*\u001b[39m\u001b[39m*\u001b[39mkwargs)\n",
      "File \u001b[1;32mc:\\python39\\lib\\site-packages\\matplotlib\\axes\\_base.py:3755\u001b[0m, in \u001b[0;36m_AxesBase.set_ylabel\u001b[1;34m(self, ylabel, fontdict, labelpad, loc, **kwargs)\u001b[0m\n\u001b[0;32m   3748\u001b[0m     y, ha \u001b[39m=\u001b[39m {\n\u001b[0;32m   3749\u001b[0m         \u001b[39m'\u001b[39m\u001b[39mbottom\u001b[39m\u001b[39m'\u001b[39m: (\u001b[39m0\u001b[39m, \u001b[39m'\u001b[39m\u001b[39mleft\u001b[39m\u001b[39m'\u001b[39m),\n\u001b[0;32m   3750\u001b[0m         \u001b[39m'\u001b[39m\u001b[39mcenter\u001b[39m\u001b[39m'\u001b[39m: (\u001b[39m0.5\u001b[39m, \u001b[39m'\u001b[39m\u001b[39mcenter\u001b[39m\u001b[39m'\u001b[39m),\n\u001b[0;32m   3751\u001b[0m         \u001b[39m'\u001b[39m\u001b[39mtop\u001b[39m\u001b[39m'\u001b[39m: (\u001b[39m1\u001b[39m, \u001b[39m'\u001b[39m\u001b[39mright\u001b[39m\u001b[39m'\u001b[39m)\n\u001b[0;32m   3752\u001b[0m     }[loc]\n\u001b[0;32m   3753\u001b[0m     kwargs\u001b[39m.\u001b[39mupdate(y\u001b[39m=\u001b[39my, horizontalalignment\u001b[39m=\u001b[39mha)\n\u001b[1;32m-> 3755\u001b[0m \u001b[39mreturn\u001b[39;00m \u001b[39mself\u001b[39m\u001b[39m.\u001b[39myaxis\u001b[39m.\u001b[39mset_label_text(ylabel, fontdict, \u001b[39m*\u001b[39m\u001b[39m*\u001b[39mkwargs)\n",
      "File \u001b[1;32mc:\\python39\\lib\\site-packages\\matplotlib\\axis.py:1719\u001b[0m, in \u001b[0;36mAxis.set_label_text\u001b[1;34m(self, label, fontdict, **kwargs)\u001b[0m\n\u001b[0;32m   1706\u001b[0m \u001b[39m\"\"\"\u001b[39;00m\n\u001b[0;32m   1707\u001b[0m \u001b[39mSet the text value of the axis label.\u001b[39;00m\n\u001b[0;32m   1708\u001b[0m \n\u001b[1;32m   (...)\u001b[0m\n\u001b[0;32m   1716\u001b[0m \u001b[39m    Merged into fontdict.\u001b[39;00m\n\u001b[0;32m   1717\u001b[0m \u001b[39m\"\"\"\u001b[39;00m\n\u001b[0;32m   1718\u001b[0m \u001b[39mself\u001b[39m\u001b[39m.\u001b[39misDefault_label \u001b[39m=\u001b[39m \u001b[39mFalse\u001b[39;00m\n\u001b[1;32m-> 1719\u001b[0m \u001b[39mself\u001b[39;49m\u001b[39m.\u001b[39;49mlabel\u001b[39m.\u001b[39;49mset_text(label)\n\u001b[0;32m   1720\u001b[0m \u001b[39mif\u001b[39;00m fontdict \u001b[39mis\u001b[39;00m \u001b[39mnot\u001b[39;00m \u001b[39mNone\u001b[39;00m:\n\u001b[0;32m   1721\u001b[0m     \u001b[39mself\u001b[39m\u001b[39m.\u001b[39mlabel\u001b[39m.\u001b[39mupdate(fontdict)\n",
      "File \u001b[1;32mc:\\python39\\lib\\site-packages\\matplotlib\\text.py:1241\u001b[0m, in \u001b[0;36mText.set_text\u001b[1;34m(self, s)\u001b[0m\n\u001b[0;32m   1239\u001b[0m \u001b[39mif\u001b[39;00m s \u001b[39mis\u001b[39;00m \u001b[39mNone\u001b[39;00m:\n\u001b[0;32m   1240\u001b[0m     s \u001b[39m=\u001b[39m \u001b[39m'\u001b[39m\u001b[39m'\u001b[39m\n\u001b[1;32m-> 1241\u001b[0m \u001b[39mif\u001b[39;00m s \u001b[39m!=\u001b[39;49m \u001b[39mself\u001b[39;49m\u001b[39m.\u001b[39;49m_text:\n\u001b[0;32m   1242\u001b[0m     \u001b[39mself\u001b[39m\u001b[39m.\u001b[39m_text \u001b[39m=\u001b[39m \u001b[39mstr\u001b[39m(s)\n\u001b[0;32m   1243\u001b[0m     \u001b[39mself\u001b[39m\u001b[39m.\u001b[39mstale \u001b[39m=\u001b[39m \u001b[39mTrue\u001b[39;00m\n",
      "File \u001b[1;32mc:\\python39\\lib\\site-packages\\pandas\\core\\generic.py:1527\u001b[0m, in \u001b[0;36mNDFrame.__nonzero__\u001b[1;34m(self)\u001b[0m\n\u001b[0;32m   1525\u001b[0m \u001b[39m@final\u001b[39m\n\u001b[0;32m   1526\u001b[0m \u001b[39mdef\u001b[39;00m \u001b[39m__nonzero__\u001b[39m(\u001b[39mself\u001b[39m) \u001b[39m-\u001b[39m\u001b[39m>\u001b[39m NoReturn:\n\u001b[1;32m-> 1527\u001b[0m     \u001b[39mraise\u001b[39;00m \u001b[39mValueError\u001b[39;00m(\n\u001b[0;32m   1528\u001b[0m         \u001b[39mf\u001b[39m\u001b[39m\"\u001b[39m\u001b[39mThe truth value of a \u001b[39m\u001b[39m{\u001b[39;00m\u001b[39mtype\u001b[39m(\u001b[39mself\u001b[39m)\u001b[39m.\u001b[39m\u001b[39m__name__\u001b[39m\u001b[39m}\u001b[39;00m\u001b[39m is ambiguous. \u001b[39m\u001b[39m\"\u001b[39m\n\u001b[0;32m   1529\u001b[0m         \u001b[39m\"\u001b[39m\u001b[39mUse a.empty, a.bool(), a.item(), a.any() or a.all().\u001b[39m\u001b[39m\"\u001b[39m\n\u001b[0;32m   1530\u001b[0m     )\n",
      "\u001b[1;31mValueError\u001b[0m: The truth value of a Series is ambiguous. Use a.empty, a.bool(), a.item(), a.any() or a.all()."
     ]
    },
    {
     "data": {
      "image/png": "[encoded data removed]",
      "text/plain": [
       "<Figure size 640x480 with 1 Axes>"
      ]
     },
     "metadata": {},
     "output_type": "display_data"
    }
   ],
   "source": [
    "plt.plot(data_csv.index[sequence_length:sequence_length+len(train_predictions)], y_train.flatten(), label='Actual Train')\n",
    "plt.plot(data_csv.index[sequence_length:sequence_length+len(train_predictions)], train_predictions.flatten(), label='Predicted Train')\n",
    "plt.plot(data_csv.index[sequence_length+len(train_predictions):sequence_length+len(train_predictions)+len(test_predictions)], y_test.flatten(), label='Actual Test')\n",
    "plt.plot(data_csv.index[sequence_length+len(train_predictions):sequence_length+len(train_predictions)+len(test_predictions)], test_predictions.flatten(), label='Predicted Test')\n",
    "plt.xlabel('Date')\n",
    "plt.ylabel(target)\n",
    "plt.title('LSTM Forex Forecast')\n",
    "plt.legend()\n",
    "plt.show()\n"
   ]
  },
  {
   "cell_type": "code",
   "execution_count": 34,
   "metadata": {},
   "outputs": [],
   "source": [
    "model.save('forex_model.h5')"
   ]
  },
  {
   "cell_type": "code",
   "execution_count": 2,
   "metadata": {},
   "outputs": [],
   "source": [
    "import tensorflow as tf\n",
    "# from keras.model import load_weights\n",
    "model = tf.keras.models.load_model('models\\forex_model.h5')"
   ]
  }
 ],
 "metadata": {
  "kernelspec": {
   "display_name": "Python 3",
   "language": "python",
   "name": "python3"
  },
  "language_info": {
   "codemirror_mode": {
    "name": "ipython",
    "version": 3
   },
   "file_extension": ".py",
   "mimetype": "text/x-python",
   "name": "python",
   "nbconvert_exporter": "python",
   "pygments_lexer": "ipython3",
   "version": "3.9.5"
  },
  "orig_nbformat": 4
 },
 "nbformat": 4,
 "nbformat_minor": 2
}
